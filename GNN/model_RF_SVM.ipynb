{
 "cells": [
  {
   "cell_type": "code",
   "execution_count": 10,
   "metadata": {},
   "outputs": [
    {
     "name": "stdout",
     "output_type": "stream",
     "text": [
      "[Errno 2] No such file or directory: 'BiS495/GNN'\n",
      "/work/home/nhkim/BiS495/GNN\n"
     ]
    }
   ],
   "source": [
    "cd BiS495/GNN"
   ]
  },
  {
   "cell_type": "code",
   "execution_count": 11,
   "metadata": {},
   "outputs": [],
   "source": [
    "import os\n",
    "import logging\n",
    "import numpy as np\n",
    "import pandas as pd\n",
    "import random\n",
    "import adabound\n",
    "import pickle\n",
    "from torch.utils.data import DataLoader, TensorDataset\n",
    "from sklearn.metrics import roc_auc_score\n",
    "from sklearn.ensemble import RandomForestClassifier\n",
    "from sklearn import svm\n",
    "from sklearn.linear_model import LinearRegression\n",
    "from sklearn.metrics import accuracy_score, classification_report, confusion_matrix, roc_auc_score\n",
    "\n",
    "import torch\n",
    "\n",
    "# Env\n",
    "from utils import *\n",
    "from model_GAT import *\n",
    "from options import parse_args\n",
    "from test_model import test"
   ]
  },
  {
   "cell_type": "code",
   "execution_count": 12,
   "metadata": {},
   "outputs": [
    {
     "name": "stdout",
     "output_type": "stream",
     "text": [
      "----------------- Options ---------------\n",
      "                 act_type: none                          \n",
      "               adj_thresh: 0.05                          \n",
      "                    alpha: 0.2                           \n",
      "               batch_size: 32                            \n",
      "                  cnv_dim: 0                             \n",
      "                  dropout: 0.2                           \n",
      "                 final_lr: 0.1                           \n",
      "                  gpu_ids: 3,4,5                         \n",
      "                input_dim: 1                             \n",
      "                label_dim: 2                             \n",
      "               lambda_cox: 1                             \n",
      "               lambda_nll: 1                             \n",
      "               lambda_reg: 0.0003                        \n",
      "            lin_input_dim: 958                           \n",
      "                       lr: 0.0001                        \n",
      "                lr_policy: linear                        \n",
      "                model_dir: ./pretrained_models           \n",
      "                  no_cuda: True                          \n",
      "               num_epochs: 50                            \n",
      "                 omic_dim: 10                            \n",
      "           optimizer_type: adam                          \n",
      "                 patience: 0.005                         \n",
      "              results_dir: ./results                     \n",
      "                     task: grad                          \n",
      "             weight_decay: 0.0005                        \n",
      "              which_layer: all                           \n",
      "----------------- End -------------------\n"
     ]
    }
   ],
   "source": [
    "opt = parse_args()"
   ]
  },
  {
   "cell_type": "code",
   "execution_count": 13,
   "metadata": {},
   "outputs": [],
   "source": [
    "rf_avg = 0\n",
    "svm_avg = 0\n",
    "lr_avg = 0\n",
    "svm_auroc = 0\n",
    "lr_auroc = 0\n",
    "rf_auroc = 0"
   ]
  },
  {
   "cell_type": "code",
   "execution_count": 14,
   "metadata": {},
   "outputs": [],
   "source": [
    "def data(k):\n",
    "    tr_features, tr_labels, te_features, te_labels, adj_matrix = load_csv_data(k, opt)\n",
    "    tr_features = tr_features.detach().cpu().numpy()\n",
    "    tr_features = np.squeeze(tr_features)\n",
    "    tr_labels = tr_labels.detach().cpu().numpy()\n",
    "    te_features = te_features.detach().cpu().numpy()\n",
    "    te_features = np.squeeze(te_features)\n",
    "    te_labels = te_labels.detach().cpu().numpy()\n",
    "\n",
    "    return tr_features, tr_labels, te_features, te_labels"
   ]
  },
  {
   "cell_type": "code",
   "execution_count": 15,
   "metadata": {},
   "outputs": [],
   "source": [
    "def lr_run(tr_features, tr_labels, te_features, te_labels):\n",
    "    global lr_avg\n",
    "    global lr_auroc\n",
    "\n",
    "    model = LinearRegression()\n",
    "    model.fit(tr_features, tr_labels)\n",
    "\n",
    "    te_pred = model.predict(te_features)\n",
    "\n",
    "    te_pred_binary = [1 if pred >= 0.5 else 0 for pred in te_pred]\n",
    "\n",
    "    accuracy = accuracy_score(te_labels, te_pred_binary)\n",
    "    auroc = roc_auc_score(te_labels, te_pred_binary)\n",
    "    lr_avg = accuracy + lr_avg\n",
    "    lr_auroc = lr_auroc + auroc\n",
    "\n",
    "    print(f\"Accuracy: {accuracy:.4f}\")"
   ]
  },
  {
   "cell_type": "code",
   "execution_count": 16,
   "metadata": {},
   "outputs": [],
   "source": [
    "def rf_run(tr_features, tr_labels, te_features, te_labels):\n",
    "    global rf_avg\n",
    "    global rf_auroc\n",
    "    \n",
    "    model = RandomForestClassifier(n_estimators=100, random_state=42)\n",
    "\n",
    "    model.fit(tr_features, tr_labels)\n",
    "\n",
    "    te_pred = model.predict(te_features)\n",
    "\n",
    "    accuracy = accuracy_score(te_labels, te_pred)\n",
    "    rf_avg = accuracy + rf_avg\n",
    "    auroc = roc_auc_score(te_labels, te_pred)\n",
    "    rf_auroc = auroc + rf_auroc\n",
    "    print(f\"Accuracy: {accuracy:.4f}\")\n",
    "    print(f\"Auroc: {auroc:.4f}\")"
   ]
  },
  {
   "cell_type": "code",
   "execution_count": 17,
   "metadata": {},
   "outputs": [],
   "source": [
    "def svm_run(tr_features, tr_labels, te_features, te_labels):\n",
    "    global svm_avg\n",
    "    global svm_auroc\n",
    "\n",
    "    model = svm.SVC(kernel='rbf', C=1.0, random_state=42)\n",
    "\n",
    "    model.fit(tr_features, tr_labels)\n",
    "\n",
    "    te_pred = model.predict(te_features)\n",
    "\n",
    "    accuracy = accuracy_score(te_labels, te_pred)\n",
    "    svm_avg = accuracy + svm_avg\n",
    "    auroc = roc_auc_score(te_labels, te_pred)\n",
    "    svm_auroc = auroc + svm_auroc\n",
    "    print(f\"Accuracy: {accuracy:.4f}\")\n",
    "    print(f\"Auroc: {auroc:.4f}\")"
   ]
  },
  {
   "cell_type": "code",
   "execution_count": 18,
   "metadata": {},
   "outputs": [
    {
     "name": "stdout",
     "output_type": "stream",
     "text": [
      "Loading data from: /work/home/nhkim/BiS495/GNN/input_features_labels/split1\n",
      "Training features and labels: torch.Size([576, 479, 1]) torch.Size([576, 1])\n",
      "Testing features and labels: torch.Size([145, 479, 1]) torch.Size([145, 1])\n",
      "Adjacency matrix: torch.Size([479, 479])\n",
      "Number of edges: tensor(43949)\n",
      "Accuracy: 0.6207\n"
     ]
    },
    {
     "name": "stderr",
     "output_type": "stream",
     "text": [
      "/work/home/nhkim/anaconda3/envs/bis332-conda/lib/python3.6/site-packages/ipykernel_launcher.py:7: DataConversionWarning: A column-vector y was passed when a 1d array was expected. Please change the shape of y to (n_samples,), for example using ravel().\n",
      "  import sys\n"
     ]
    },
    {
     "name": "stdout",
     "output_type": "stream",
     "text": [
      "Accuracy: 0.6552\n",
      "Auroc: 0.6444\n",
      "Accuracy: 0.6414\n",
      "Auroc: 0.6404\n",
      "Loading data from: /work/home/nhkim/BiS495/GNN/input_features_labels/split2\n"
     ]
    },
    {
     "name": "stderr",
     "output_type": "stream",
     "text": [
      "/work/home/nhkim/anaconda3/envs/bis332-conda/lib/python3.6/site-packages/sklearn/utils/validation.py:73: DataConversionWarning: A column-vector y was passed when a 1d array was expected. Please change the shape of y to (n_samples, ), for example using ravel().\n",
      "  return f(**kwargs)\n"
     ]
    },
    {
     "name": "stdout",
     "output_type": "stream",
     "text": [
      "Training features and labels: torch.Size([576, 479, 1]) torch.Size([576, 1])\n",
      "Testing features and labels: torch.Size([145, 479, 1]) torch.Size([145, 1])\n",
      "Adjacency matrix: torch.Size([479, 479])\n",
      "Number of edges: tensor(41421)\n",
      "Accuracy: 0.5448\n"
     ]
    },
    {
     "name": "stderr",
     "output_type": "stream",
     "text": [
      "/work/home/nhkim/anaconda3/envs/bis332-conda/lib/python3.6/site-packages/ipykernel_launcher.py:7: DataConversionWarning: A column-vector y was passed when a 1d array was expected. Please change the shape of y to (n_samples,), for example using ravel().\n",
      "  import sys\n"
     ]
    },
    {
     "name": "stdout",
     "output_type": "stream",
     "text": [
      "Accuracy: 0.7034\n",
      "Auroc: 0.7029\n",
      "Accuracy: 0.7172\n",
      "Auroc: 0.7118\n",
      "Loading data from: /work/home/nhkim/BiS495/GNN/input_features_labels/split3\n"
     ]
    },
    {
     "name": "stderr",
     "output_type": "stream",
     "text": [
      "/work/home/nhkim/anaconda3/envs/bis332-conda/lib/python3.6/site-packages/sklearn/utils/validation.py:73: DataConversionWarning: A column-vector y was passed when a 1d array was expected. Please change the shape of y to (n_samples, ), for example using ravel().\n",
      "  return f(**kwargs)\n"
     ]
    },
    {
     "name": "stdout",
     "output_type": "stream",
     "text": [
      "Training features and labels: torch.Size([576, 479, 1]) torch.Size([576, 1])\n",
      "Testing features and labels: torch.Size([145, 479, 1]) torch.Size([145, 1])\n",
      "Adjacency matrix: torch.Size([479, 479])\n",
      "Number of edges: tensor(45111)\n",
      "Accuracy: 0.4759\n"
     ]
    },
    {
     "name": "stderr",
     "output_type": "stream",
     "text": [
      "/work/home/nhkim/anaconda3/envs/bis332-conda/lib/python3.6/site-packages/ipykernel_launcher.py:7: DataConversionWarning: A column-vector y was passed when a 1d array was expected. Please change the shape of y to (n_samples,), for example using ravel().\n",
      "  import sys\n"
     ]
    },
    {
     "name": "stdout",
     "output_type": "stream",
     "text": [
      "Accuracy: 0.7034\n",
      "Auroc: 0.7084\n",
      "Accuracy: 0.6621\n",
      "Auroc: 0.6656\n",
      "Loading data from: /work/home/nhkim/BiS495/GNN/input_features_labels/split4\n"
     ]
    },
    {
     "name": "stderr",
     "output_type": "stream",
     "text": [
      "/work/home/nhkim/anaconda3/envs/bis332-conda/lib/python3.6/site-packages/sklearn/utils/validation.py:73: DataConversionWarning: A column-vector y was passed when a 1d array was expected. Please change the shape of y to (n_samples, ), for example using ravel().\n",
      "  return f(**kwargs)\n"
     ]
    },
    {
     "name": "stdout",
     "output_type": "stream",
     "text": [
      "Training features and labels: torch.Size([576, 479, 1]) torch.Size([576, 1])\n",
      "Testing features and labels: torch.Size([145, 479, 1]) torch.Size([145, 1])\n",
      "Adjacency matrix: torch.Size([479, 479])\n",
      "Number of edges: tensor(43797)\n",
      "Accuracy: 0.5241\n"
     ]
    },
    {
     "name": "stderr",
     "output_type": "stream",
     "text": [
      "/work/home/nhkim/anaconda3/envs/bis332-conda/lib/python3.6/site-packages/ipykernel_launcher.py:7: DataConversionWarning: A column-vector y was passed when a 1d array was expected. Please change the shape of y to (n_samples,), for example using ravel().\n",
      "  import sys\n"
     ]
    },
    {
     "name": "stdout",
     "output_type": "stream",
     "text": [
      "Accuracy: 0.7448\n",
      "Auroc: 0.7419\n",
      "Accuracy: 0.7103\n",
      "Auroc: 0.7063\n",
      "Loading data from: /work/home/nhkim/BiS495/GNN/input_features_labels/split5\n"
     ]
    },
    {
     "name": "stderr",
     "output_type": "stream",
     "text": [
      "/work/home/nhkim/anaconda3/envs/bis332-conda/lib/python3.6/site-packages/sklearn/utils/validation.py:73: DataConversionWarning: A column-vector y was passed when a 1d array was expected. Please change the shape of y to (n_samples, ), for example using ravel().\n",
      "  return f(**kwargs)\n"
     ]
    },
    {
     "name": "stdout",
     "output_type": "stream",
     "text": [
      "Training features and labels: torch.Size([576, 479, 1]) torch.Size([576, 1])\n",
      "Testing features and labels: torch.Size([145, 479, 1]) torch.Size([145, 1])\n",
      "Adjacency matrix: torch.Size([479, 479])\n",
      "Number of edges: tensor(43895)\n",
      "Accuracy: 0.5448\n"
     ]
    },
    {
     "name": "stderr",
     "output_type": "stream",
     "text": [
      "/work/home/nhkim/anaconda3/envs/bis332-conda/lib/python3.6/site-packages/ipykernel_launcher.py:7: DataConversionWarning: A column-vector y was passed when a 1d array was expected. Please change the shape of y to (n_samples,), for example using ravel().\n",
      "  import sys\n"
     ]
    },
    {
     "name": "stdout",
     "output_type": "stream",
     "text": [
      "Accuracy: 0.6828\n",
      "Auroc: 0.6777\n",
      "Accuracy: 0.6483\n",
      "Auroc: 0.6473\n",
      "Loading data from: /work/home/nhkim/BiS495/GNN/input_features_labels/split1\n"
     ]
    },
    {
     "name": "stderr",
     "output_type": "stream",
     "text": [
      "/work/home/nhkim/anaconda3/envs/bis332-conda/lib/python3.6/site-packages/sklearn/utils/validation.py:73: DataConversionWarning: A column-vector y was passed when a 1d array was expected. Please change the shape of y to (n_samples, ), for example using ravel().\n",
      "  return f(**kwargs)\n"
     ]
    },
    {
     "name": "stdout",
     "output_type": "stream",
     "text": [
      "Training features and labels: torch.Size([576, 479, 1]) torch.Size([576, 1])\n",
      "Testing features and labels: torch.Size([145, 479, 1]) torch.Size([145, 1])\n",
      "Adjacency matrix: torch.Size([479, 479])\n",
      "Number of edges: tensor(43949)\n",
      "Accuracy: 0.6207\n"
     ]
    },
    {
     "name": "stderr",
     "output_type": "stream",
     "text": [
      "/work/home/nhkim/anaconda3/envs/bis332-conda/lib/python3.6/site-packages/ipykernel_launcher.py:7: DataConversionWarning: A column-vector y was passed when a 1d array was expected. Please change the shape of y to (n_samples,), for example using ravel().\n",
      "  import sys\n"
     ]
    },
    {
     "name": "stdout",
     "output_type": "stream",
     "text": [
      "Accuracy: 0.6552\n",
      "Auroc: 0.6444\n",
      "Accuracy: 0.6414\n",
      "Auroc: 0.6404\n",
      "Loading data from: /work/home/nhkim/BiS495/GNN/input_features_labels/split2\n"
     ]
    },
    {
     "name": "stderr",
     "output_type": "stream",
     "text": [
      "/work/home/nhkim/anaconda3/envs/bis332-conda/lib/python3.6/site-packages/sklearn/utils/validation.py:73: DataConversionWarning: A column-vector y was passed when a 1d array was expected. Please change the shape of y to (n_samples, ), for example using ravel().\n",
      "  return f(**kwargs)\n"
     ]
    },
    {
     "name": "stdout",
     "output_type": "stream",
     "text": [
      "Training features and labels: torch.Size([576, 479, 1]) torch.Size([576, 1])\n",
      "Testing features and labels: torch.Size([145, 479, 1]) torch.Size([145, 1])\n",
      "Adjacency matrix: torch.Size([479, 479])\n",
      "Number of edges: tensor(41421)\n",
      "Accuracy: 0.5448\n"
     ]
    },
    {
     "name": "stderr",
     "output_type": "stream",
     "text": [
      "/work/home/nhkim/anaconda3/envs/bis332-conda/lib/python3.6/site-packages/ipykernel_launcher.py:7: DataConversionWarning: A column-vector y was passed when a 1d array was expected. Please change the shape of y to (n_samples,), for example using ravel().\n",
      "  import sys\n"
     ]
    },
    {
     "name": "stdout",
     "output_type": "stream",
     "text": [
      "Accuracy: 0.7034\n",
      "Auroc: 0.7029\n",
      "Accuracy: 0.7172\n",
      "Auroc: 0.7118\n",
      "Loading data from: /work/home/nhkim/BiS495/GNN/input_features_labels/split3\n"
     ]
    },
    {
     "name": "stderr",
     "output_type": "stream",
     "text": [
      "/work/home/nhkim/anaconda3/envs/bis332-conda/lib/python3.6/site-packages/sklearn/utils/validation.py:73: DataConversionWarning: A column-vector y was passed when a 1d array was expected. Please change the shape of y to (n_samples, ), for example using ravel().\n",
      "  return f(**kwargs)\n"
     ]
    },
    {
     "name": "stdout",
     "output_type": "stream",
     "text": [
      "Training features and labels: torch.Size([576, 479, 1]) torch.Size([576, 1])\n",
      "Testing features and labels: torch.Size([145, 479, 1]) torch.Size([145, 1])\n",
      "Adjacency matrix: torch.Size([479, 479])\n",
      "Number of edges: tensor(45111)\n",
      "Accuracy: 0.4759\n"
     ]
    },
    {
     "name": "stderr",
     "output_type": "stream",
     "text": [
      "/work/home/nhkim/anaconda3/envs/bis332-conda/lib/python3.6/site-packages/ipykernel_launcher.py:7: DataConversionWarning: A column-vector y was passed when a 1d array was expected. Please change the shape of y to (n_samples,), for example using ravel().\n",
      "  import sys\n"
     ]
    },
    {
     "name": "stdout",
     "output_type": "stream",
     "text": [
      "Accuracy: 0.7034\n",
      "Auroc: 0.7084\n",
      "Accuracy: 0.6621\n",
      "Auroc: 0.6656\n",
      "Loading data from: /work/home/nhkim/BiS495/GNN/input_features_labels/split4\n"
     ]
    },
    {
     "name": "stderr",
     "output_type": "stream",
     "text": [
      "/work/home/nhkim/anaconda3/envs/bis332-conda/lib/python3.6/site-packages/sklearn/utils/validation.py:73: DataConversionWarning: A column-vector y was passed when a 1d array was expected. Please change the shape of y to (n_samples, ), for example using ravel().\n",
      "  return f(**kwargs)\n"
     ]
    },
    {
     "name": "stdout",
     "output_type": "stream",
     "text": [
      "Training features and labels: torch.Size([576, 479, 1]) torch.Size([576, 1])\n",
      "Testing features and labels: torch.Size([145, 479, 1]) torch.Size([145, 1])\n",
      "Adjacency matrix: torch.Size([479, 479])\n",
      "Number of edges: tensor(43797)\n",
      "Accuracy: 0.5241\n"
     ]
    },
    {
     "name": "stderr",
     "output_type": "stream",
     "text": [
      "/work/home/nhkim/anaconda3/envs/bis332-conda/lib/python3.6/site-packages/ipykernel_launcher.py:7: DataConversionWarning: A column-vector y was passed when a 1d array was expected. Please change the shape of y to (n_samples,), for example using ravel().\n",
      "  import sys\n"
     ]
    },
    {
     "name": "stdout",
     "output_type": "stream",
     "text": [
      "Accuracy: 0.7448\n",
      "Auroc: 0.7419\n",
      "Accuracy: 0.7103\n",
      "Auroc: 0.7063\n",
      "Loading data from: /work/home/nhkim/BiS495/GNN/input_features_labels/split5\n"
     ]
    },
    {
     "name": "stderr",
     "output_type": "stream",
     "text": [
      "/work/home/nhkim/anaconda3/envs/bis332-conda/lib/python3.6/site-packages/sklearn/utils/validation.py:73: DataConversionWarning: A column-vector y was passed when a 1d array was expected. Please change the shape of y to (n_samples, ), for example using ravel().\n",
      "  return f(**kwargs)\n"
     ]
    },
    {
     "name": "stdout",
     "output_type": "stream",
     "text": [
      "Training features and labels: torch.Size([576, 479, 1]) torch.Size([576, 1])\n",
      "Testing features and labels: torch.Size([145, 479, 1]) torch.Size([145, 1])\n",
      "Adjacency matrix: torch.Size([479, 479])\n",
      "Number of edges: tensor(43895)\n",
      "Accuracy: 0.5448\n"
     ]
    },
    {
     "name": "stderr",
     "output_type": "stream",
     "text": [
      "/work/home/nhkim/anaconda3/envs/bis332-conda/lib/python3.6/site-packages/ipykernel_launcher.py:7: DataConversionWarning: A column-vector y was passed when a 1d array was expected. Please change the shape of y to (n_samples,), for example using ravel().\n",
      "  import sys\n"
     ]
    },
    {
     "name": "stdout",
     "output_type": "stream",
     "text": [
      "Accuracy: 0.6828\n",
      "Auroc: 0.6777\n",
      "Accuracy: 0.6483\n",
      "Auroc: 0.6473\n",
      "Loading data from: /work/home/nhkim/BiS495/GNN/input_features_labels/split1\n"
     ]
    },
    {
     "name": "stderr",
     "output_type": "stream",
     "text": [
      "/work/home/nhkim/anaconda3/envs/bis332-conda/lib/python3.6/site-packages/sklearn/utils/validation.py:73: DataConversionWarning: A column-vector y was passed when a 1d array was expected. Please change the shape of y to (n_samples, ), for example using ravel().\n",
      "  return f(**kwargs)\n"
     ]
    },
    {
     "name": "stdout",
     "output_type": "stream",
     "text": [
      "Training features and labels: torch.Size([576, 479, 1]) torch.Size([576, 1])\n",
      "Testing features and labels: torch.Size([145, 479, 1]) torch.Size([145, 1])\n",
      "Adjacency matrix: torch.Size([479, 479])\n",
      "Number of edges: tensor(43949)\n",
      "Accuracy: 0.6207\n"
     ]
    },
    {
     "name": "stderr",
     "output_type": "stream",
     "text": [
      "/work/home/nhkim/anaconda3/envs/bis332-conda/lib/python3.6/site-packages/ipykernel_launcher.py:7: DataConversionWarning: A column-vector y was passed when a 1d array was expected. Please change the shape of y to (n_samples,), for example using ravel().\n",
      "  import sys\n"
     ]
    },
    {
     "name": "stdout",
     "output_type": "stream",
     "text": [
      "Accuracy: 0.6552\n",
      "Auroc: 0.6444\n",
      "Accuracy: 0.6414\n",
      "Auroc: 0.6404\n",
      "Loading data from: /work/home/nhkim/BiS495/GNN/input_features_labels/split2\n"
     ]
    },
    {
     "name": "stderr",
     "output_type": "stream",
     "text": [
      "/work/home/nhkim/anaconda3/envs/bis332-conda/lib/python3.6/site-packages/sklearn/utils/validation.py:73: DataConversionWarning: A column-vector y was passed when a 1d array was expected. Please change the shape of y to (n_samples, ), for example using ravel().\n",
      "  return f(**kwargs)\n"
     ]
    },
    {
     "name": "stdout",
     "output_type": "stream",
     "text": [
      "Training features and labels: torch.Size([576, 479, 1]) torch.Size([576, 1])\n",
      "Testing features and labels: torch.Size([145, 479, 1]) torch.Size([145, 1])\n",
      "Adjacency matrix: torch.Size([479, 479])\n",
      "Number of edges: tensor(41421)\n",
      "Accuracy: 0.5448\n"
     ]
    },
    {
     "name": "stderr",
     "output_type": "stream",
     "text": [
      "/work/home/nhkim/anaconda3/envs/bis332-conda/lib/python3.6/site-packages/ipykernel_launcher.py:7: DataConversionWarning: A column-vector y was passed when a 1d array was expected. Please change the shape of y to (n_samples,), for example using ravel().\n",
      "  import sys\n"
     ]
    },
    {
     "name": "stdout",
     "output_type": "stream",
     "text": [
      "Accuracy: 0.7034\n",
      "Auroc: 0.7029\n",
      "Accuracy: 0.7172\n",
      "Auroc: 0.7118\n",
      "Loading data from: /work/home/nhkim/BiS495/GNN/input_features_labels/split3\n"
     ]
    },
    {
     "name": "stderr",
     "output_type": "stream",
     "text": [
      "/work/home/nhkim/anaconda3/envs/bis332-conda/lib/python3.6/site-packages/sklearn/utils/validation.py:73: DataConversionWarning: A column-vector y was passed when a 1d array was expected. Please change the shape of y to (n_samples, ), for example using ravel().\n",
      "  return f(**kwargs)\n"
     ]
    },
    {
     "name": "stdout",
     "output_type": "stream",
     "text": [
      "Training features and labels: torch.Size([576, 479, 1]) torch.Size([576, 1])\n",
      "Testing features and labels: torch.Size([145, 479, 1]) torch.Size([145, 1])\n",
      "Adjacency matrix: torch.Size([479, 479])\n",
      "Number of edges: tensor(45111)\n",
      "Accuracy: 0.4759\n"
     ]
    },
    {
     "name": "stderr",
     "output_type": "stream",
     "text": [
      "/work/home/nhkim/anaconda3/envs/bis332-conda/lib/python3.6/site-packages/ipykernel_launcher.py:7: DataConversionWarning: A column-vector y was passed when a 1d array was expected. Please change the shape of y to (n_samples,), for example using ravel().\n",
      "  import sys\n"
     ]
    },
    {
     "name": "stdout",
     "output_type": "stream",
     "text": [
      "Accuracy: 0.7034\n",
      "Auroc: 0.7084\n",
      "Accuracy: 0.6621\n",
      "Auroc: 0.6656\n",
      "Loading data from: /work/home/nhkim/BiS495/GNN/input_features_labels/split4\n"
     ]
    },
    {
     "name": "stderr",
     "output_type": "stream",
     "text": [
      "/work/home/nhkim/anaconda3/envs/bis332-conda/lib/python3.6/site-packages/sklearn/utils/validation.py:73: DataConversionWarning: A column-vector y was passed when a 1d array was expected. Please change the shape of y to (n_samples, ), for example using ravel().\n",
      "  return f(**kwargs)\n"
     ]
    },
    {
     "name": "stdout",
     "output_type": "stream",
     "text": [
      "Training features and labels: torch.Size([576, 479, 1]) torch.Size([576, 1])\n",
      "Testing features and labels: torch.Size([145, 479, 1]) torch.Size([145, 1])\n",
      "Adjacency matrix: torch.Size([479, 479])\n",
      "Number of edges: tensor(43797)\n",
      "Accuracy: 0.5241\n"
     ]
    },
    {
     "name": "stderr",
     "output_type": "stream",
     "text": [
      "/work/home/nhkim/anaconda3/envs/bis332-conda/lib/python3.6/site-packages/ipykernel_launcher.py:7: DataConversionWarning: A column-vector y was passed when a 1d array was expected. Please change the shape of y to (n_samples,), for example using ravel().\n",
      "  import sys\n"
     ]
    },
    {
     "name": "stdout",
     "output_type": "stream",
     "text": [
      "Accuracy: 0.7448\n",
      "Auroc: 0.7419\n",
      "Accuracy: 0.7103\n",
      "Auroc: 0.7063\n",
      "Loading data from: /work/home/nhkim/BiS495/GNN/input_features_labels/split5\n"
     ]
    },
    {
     "name": "stderr",
     "output_type": "stream",
     "text": [
      "/work/home/nhkim/anaconda3/envs/bis332-conda/lib/python3.6/site-packages/sklearn/utils/validation.py:73: DataConversionWarning: A column-vector y was passed when a 1d array was expected. Please change the shape of y to (n_samples, ), for example using ravel().\n",
      "  return f(**kwargs)\n"
     ]
    },
    {
     "name": "stdout",
     "output_type": "stream",
     "text": [
      "Training features and labels: torch.Size([576, 479, 1]) torch.Size([576, 1])\n",
      "Testing features and labels: torch.Size([145, 479, 1]) torch.Size([145, 1])\n",
      "Adjacency matrix: torch.Size([479, 479])\n",
      "Number of edges: tensor(43895)\n",
      "Accuracy: 0.5448\n"
     ]
    },
    {
     "name": "stderr",
     "output_type": "stream",
     "text": [
      "/work/home/nhkim/anaconda3/envs/bis332-conda/lib/python3.6/site-packages/ipykernel_launcher.py:7: DataConversionWarning: A column-vector y was passed when a 1d array was expected. Please change the shape of y to (n_samples,), for example using ravel().\n",
      "  import sys\n"
     ]
    },
    {
     "name": "stdout",
     "output_type": "stream",
     "text": [
      "Accuracy: 0.6828\n",
      "Auroc: 0.6777\n",
      "Accuracy: 0.6483\n",
      "Auroc: 0.6473\n",
      "Loading data from: /work/home/nhkim/BiS495/GNN/input_features_labels/split1\n"
     ]
    },
    {
     "name": "stderr",
     "output_type": "stream",
     "text": [
      "/work/home/nhkim/anaconda3/envs/bis332-conda/lib/python3.6/site-packages/sklearn/utils/validation.py:73: DataConversionWarning: A column-vector y was passed when a 1d array was expected. Please change the shape of y to (n_samples, ), for example using ravel().\n",
      "  return f(**kwargs)\n"
     ]
    },
    {
     "name": "stdout",
     "output_type": "stream",
     "text": [
      "Training features and labels: torch.Size([576, 479, 1]) torch.Size([576, 1])\n",
      "Testing features and labels: torch.Size([145, 479, 1]) torch.Size([145, 1])\n",
      "Adjacency matrix: torch.Size([479, 479])\n",
      "Number of edges: tensor(43949)\n",
      "Accuracy: 0.6207\n"
     ]
    },
    {
     "name": "stderr",
     "output_type": "stream",
     "text": [
      "/work/home/nhkim/anaconda3/envs/bis332-conda/lib/python3.6/site-packages/ipykernel_launcher.py:7: DataConversionWarning: A column-vector y was passed when a 1d array was expected. Please change the shape of y to (n_samples,), for example using ravel().\n",
      "  import sys\n"
     ]
    },
    {
     "name": "stdout",
     "output_type": "stream",
     "text": [
      "Accuracy: 0.6552\n",
      "Auroc: 0.6444\n",
      "Accuracy: 0.6414\n",
      "Auroc: 0.6404\n",
      "Loading data from: /work/home/nhkim/BiS495/GNN/input_features_labels/split2\n"
     ]
    },
    {
     "name": "stderr",
     "output_type": "stream",
     "text": [
      "/work/home/nhkim/anaconda3/envs/bis332-conda/lib/python3.6/site-packages/sklearn/utils/validation.py:73: DataConversionWarning: A column-vector y was passed when a 1d array was expected. Please change the shape of y to (n_samples, ), for example using ravel().\n",
      "  return f(**kwargs)\n"
     ]
    },
    {
     "name": "stdout",
     "output_type": "stream",
     "text": [
      "Training features and labels: torch.Size([576, 479, 1]) torch.Size([576, 1])\n",
      "Testing features and labels: torch.Size([145, 479, 1]) torch.Size([145, 1])\n",
      "Adjacency matrix: torch.Size([479, 479])\n",
      "Number of edges: tensor(41421)\n",
      "Accuracy: 0.5448\n"
     ]
    },
    {
     "name": "stderr",
     "output_type": "stream",
     "text": [
      "/work/home/nhkim/anaconda3/envs/bis332-conda/lib/python3.6/site-packages/ipykernel_launcher.py:7: DataConversionWarning: A column-vector y was passed when a 1d array was expected. Please change the shape of y to (n_samples,), for example using ravel().\n",
      "  import sys\n"
     ]
    },
    {
     "name": "stdout",
     "output_type": "stream",
     "text": [
      "Accuracy: 0.7034\n",
      "Auroc: 0.7029\n",
      "Accuracy: 0.7172\n",
      "Auroc: 0.7118\n",
      "Loading data from: /work/home/nhkim/BiS495/GNN/input_features_labels/split3\n"
     ]
    },
    {
     "name": "stderr",
     "output_type": "stream",
     "text": [
      "/work/home/nhkim/anaconda3/envs/bis332-conda/lib/python3.6/site-packages/sklearn/utils/validation.py:73: DataConversionWarning: A column-vector y was passed when a 1d array was expected. Please change the shape of y to (n_samples, ), for example using ravel().\n",
      "  return f(**kwargs)\n"
     ]
    },
    {
     "name": "stdout",
     "output_type": "stream",
     "text": [
      "Training features and labels: torch.Size([576, 479, 1]) torch.Size([576, 1])\n",
      "Testing features and labels: torch.Size([145, 479, 1]) torch.Size([145, 1])\n",
      "Adjacency matrix: torch.Size([479, 479])\n",
      "Number of edges: tensor(45111)\n",
      "Accuracy: 0.4759\n"
     ]
    },
    {
     "name": "stderr",
     "output_type": "stream",
     "text": [
      "/work/home/nhkim/anaconda3/envs/bis332-conda/lib/python3.6/site-packages/ipykernel_launcher.py:7: DataConversionWarning: A column-vector y was passed when a 1d array was expected. Please change the shape of y to (n_samples,), for example using ravel().\n",
      "  import sys\n"
     ]
    },
    {
     "name": "stdout",
     "output_type": "stream",
     "text": [
      "Accuracy: 0.7034\n",
      "Auroc: 0.7084\n",
      "Accuracy: 0.6621\n",
      "Auroc: 0.6656\n",
      "Loading data from: /work/home/nhkim/BiS495/GNN/input_features_labels/split4\n"
     ]
    },
    {
     "name": "stderr",
     "output_type": "stream",
     "text": [
      "/work/home/nhkim/anaconda3/envs/bis332-conda/lib/python3.6/site-packages/sklearn/utils/validation.py:73: DataConversionWarning: A column-vector y was passed when a 1d array was expected. Please change the shape of y to (n_samples, ), for example using ravel().\n",
      "  return f(**kwargs)\n"
     ]
    },
    {
     "name": "stdout",
     "output_type": "stream",
     "text": [
      "Training features and labels: torch.Size([576, 479, 1]) torch.Size([576, 1])\n",
      "Testing features and labels: torch.Size([145, 479, 1]) torch.Size([145, 1])\n",
      "Adjacency matrix: torch.Size([479, 479])\n",
      "Number of edges: tensor(43797)\n",
      "Accuracy: 0.5241\n"
     ]
    },
    {
     "name": "stderr",
     "output_type": "stream",
     "text": [
      "/work/home/nhkim/anaconda3/envs/bis332-conda/lib/python3.6/site-packages/ipykernel_launcher.py:7: DataConversionWarning: A column-vector y was passed when a 1d array was expected. Please change the shape of y to (n_samples,), for example using ravel().\n",
      "  import sys\n"
     ]
    },
    {
     "name": "stdout",
     "output_type": "stream",
     "text": [
      "Accuracy: 0.7448\n",
      "Auroc: 0.7419\n",
      "Accuracy: 0.7103\n",
      "Auroc: 0.7063\n",
      "Loading data from: /work/home/nhkim/BiS495/GNN/input_features_labels/split5\n"
     ]
    },
    {
     "name": "stderr",
     "output_type": "stream",
     "text": [
      "/work/home/nhkim/anaconda3/envs/bis332-conda/lib/python3.6/site-packages/sklearn/utils/validation.py:73: DataConversionWarning: A column-vector y was passed when a 1d array was expected. Please change the shape of y to (n_samples, ), for example using ravel().\n",
      "  return f(**kwargs)\n"
     ]
    },
    {
     "name": "stdout",
     "output_type": "stream",
     "text": [
      "Training features and labels: torch.Size([576, 479, 1]) torch.Size([576, 1])\n",
      "Testing features and labels: torch.Size([145, 479, 1]) torch.Size([145, 1])\n",
      "Adjacency matrix: torch.Size([479, 479])\n",
      "Number of edges: tensor(43895)\n",
      "Accuracy: 0.5448\n"
     ]
    },
    {
     "name": "stderr",
     "output_type": "stream",
     "text": [
      "/work/home/nhkim/anaconda3/envs/bis332-conda/lib/python3.6/site-packages/ipykernel_launcher.py:7: DataConversionWarning: A column-vector y was passed when a 1d array was expected. Please change the shape of y to (n_samples,), for example using ravel().\n",
      "  import sys\n"
     ]
    },
    {
     "name": "stdout",
     "output_type": "stream",
     "text": [
      "Accuracy: 0.6828\n",
      "Auroc: 0.6777\n",
      "Accuracy: 0.6483\n",
      "Auroc: 0.6473\n",
      "Loading data from: /work/home/nhkim/BiS495/GNN/input_features_labels/split1\n"
     ]
    },
    {
     "name": "stderr",
     "output_type": "stream",
     "text": [
      "/work/home/nhkim/anaconda3/envs/bis332-conda/lib/python3.6/site-packages/sklearn/utils/validation.py:73: DataConversionWarning: A column-vector y was passed when a 1d array was expected. Please change the shape of y to (n_samples, ), for example using ravel().\n",
      "  return f(**kwargs)\n"
     ]
    },
    {
     "name": "stdout",
     "output_type": "stream",
     "text": [
      "Training features and labels: torch.Size([576, 479, 1]) torch.Size([576, 1])\n",
      "Testing features and labels: torch.Size([145, 479, 1]) torch.Size([145, 1])\n",
      "Adjacency matrix: torch.Size([479, 479])\n",
      "Number of edges: tensor(43949)\n",
      "Accuracy: 0.6207\n"
     ]
    },
    {
     "name": "stderr",
     "output_type": "stream",
     "text": [
      "/work/home/nhkim/anaconda3/envs/bis332-conda/lib/python3.6/site-packages/ipykernel_launcher.py:7: DataConversionWarning: A column-vector y was passed when a 1d array was expected. Please change the shape of y to (n_samples,), for example using ravel().\n",
      "  import sys\n"
     ]
    },
    {
     "name": "stdout",
     "output_type": "stream",
     "text": [
      "Accuracy: 0.6552\n",
      "Auroc: 0.6444\n",
      "Accuracy: 0.6414\n",
      "Auroc: 0.6404\n",
      "Loading data from: /work/home/nhkim/BiS495/GNN/input_features_labels/split2\n"
     ]
    },
    {
     "name": "stderr",
     "output_type": "stream",
     "text": [
      "/work/home/nhkim/anaconda3/envs/bis332-conda/lib/python3.6/site-packages/sklearn/utils/validation.py:73: DataConversionWarning: A column-vector y was passed when a 1d array was expected. Please change the shape of y to (n_samples, ), for example using ravel().\n",
      "  return f(**kwargs)\n"
     ]
    },
    {
     "name": "stdout",
     "output_type": "stream",
     "text": [
      "Training features and labels: torch.Size([576, 479, 1]) torch.Size([576, 1])\n",
      "Testing features and labels: torch.Size([145, 479, 1]) torch.Size([145, 1])\n",
      "Adjacency matrix: torch.Size([479, 479])\n",
      "Number of edges: tensor(41421)\n",
      "Accuracy: 0.5448\n"
     ]
    },
    {
     "name": "stderr",
     "output_type": "stream",
     "text": [
      "/work/home/nhkim/anaconda3/envs/bis332-conda/lib/python3.6/site-packages/ipykernel_launcher.py:7: DataConversionWarning: A column-vector y was passed when a 1d array was expected. Please change the shape of y to (n_samples,), for example using ravel().\n",
      "  import sys\n"
     ]
    },
    {
     "name": "stdout",
     "output_type": "stream",
     "text": [
      "Accuracy: 0.7034\n",
      "Auroc: 0.7029\n"
     ]
    },
    {
     "name": "stderr",
     "output_type": "stream",
     "text": [
      "/work/home/nhkim/anaconda3/envs/bis332-conda/lib/python3.6/site-packages/sklearn/utils/validation.py:73: DataConversionWarning: A column-vector y was passed when a 1d array was expected. Please change the shape of y to (n_samples, ), for example using ravel().\n",
      "  return f(**kwargs)\n"
     ]
    },
    {
     "name": "stdout",
     "output_type": "stream",
     "text": [
      "Accuracy: 0.7172\n",
      "Auroc: 0.7118\n",
      "Loading data from: /work/home/nhkim/BiS495/GNN/input_features_labels/split3\n",
      "Training features and labels: torch.Size([576, 479, 1]) torch.Size([576, 1])\n",
      "Testing features and labels: torch.Size([145, 479, 1]) torch.Size([145, 1])\n",
      "Adjacency matrix: torch.Size([479, 479])\n",
      "Number of edges: tensor(45111)\n",
      "Accuracy: 0.4759\n"
     ]
    },
    {
     "name": "stderr",
     "output_type": "stream",
     "text": [
      "/work/home/nhkim/anaconda3/envs/bis332-conda/lib/python3.6/site-packages/ipykernel_launcher.py:7: DataConversionWarning: A column-vector y was passed when a 1d array was expected. Please change the shape of y to (n_samples,), for example using ravel().\n",
      "  import sys\n"
     ]
    },
    {
     "name": "stdout",
     "output_type": "stream",
     "text": [
      "Accuracy: 0.7034\n",
      "Auroc: 0.7084\n",
      "Accuracy: 0.6621\n",
      "Auroc: 0.6656\n",
      "Loading data from: /work/home/nhkim/BiS495/GNN/input_features_labels/split4\n"
     ]
    },
    {
     "name": "stderr",
     "output_type": "stream",
     "text": [
      "/work/home/nhkim/anaconda3/envs/bis332-conda/lib/python3.6/site-packages/sklearn/utils/validation.py:73: DataConversionWarning: A column-vector y was passed when a 1d array was expected. Please change the shape of y to (n_samples, ), for example using ravel().\n",
      "  return f(**kwargs)\n"
     ]
    },
    {
     "name": "stdout",
     "output_type": "stream",
     "text": [
      "Training features and labels: torch.Size([576, 479, 1]) torch.Size([576, 1])\n",
      "Testing features and labels: torch.Size([145, 479, 1]) torch.Size([145, 1])\n",
      "Adjacency matrix: torch.Size([479, 479])\n",
      "Number of edges: tensor(43797)\n",
      "Accuracy: 0.5241\n"
     ]
    },
    {
     "name": "stderr",
     "output_type": "stream",
     "text": [
      "/work/home/nhkim/anaconda3/envs/bis332-conda/lib/python3.6/site-packages/ipykernel_launcher.py:7: DataConversionWarning: A column-vector y was passed when a 1d array was expected. Please change the shape of y to (n_samples,), for example using ravel().\n",
      "  import sys\n"
     ]
    },
    {
     "name": "stdout",
     "output_type": "stream",
     "text": [
      "Accuracy: 0.7448\n",
      "Auroc: 0.7419\n",
      "Accuracy: 0.7103\n",
      "Auroc: 0.7063\n",
      "Loading data from: /work/home/nhkim/BiS495/GNN/input_features_labels/split5\n"
     ]
    },
    {
     "name": "stderr",
     "output_type": "stream",
     "text": [
      "/work/home/nhkim/anaconda3/envs/bis332-conda/lib/python3.6/site-packages/sklearn/utils/validation.py:73: DataConversionWarning: A column-vector y was passed when a 1d array was expected. Please change the shape of y to (n_samples, ), for example using ravel().\n",
      "  return f(**kwargs)\n"
     ]
    },
    {
     "name": "stdout",
     "output_type": "stream",
     "text": [
      "Training features and labels: torch.Size([576, 479, 1]) torch.Size([576, 1])\n",
      "Testing features and labels: torch.Size([145, 479, 1]) torch.Size([145, 1])\n",
      "Adjacency matrix: torch.Size([479, 479])\n",
      "Number of edges: tensor(43895)\n",
      "Accuracy: 0.5448\n"
     ]
    },
    {
     "name": "stderr",
     "output_type": "stream",
     "text": [
      "/work/home/nhkim/anaconda3/envs/bis332-conda/lib/python3.6/site-packages/ipykernel_launcher.py:7: DataConversionWarning: A column-vector y was passed when a 1d array was expected. Please change the shape of y to (n_samples,), for example using ravel().\n",
      "  import sys\n"
     ]
    },
    {
     "name": "stdout",
     "output_type": "stream",
     "text": [
      "Accuracy: 0.6828\n",
      "Auroc: 0.6777\n",
      "Accuracy: 0.6483\n",
      "Auroc: 0.6473\n",
      "Accuracy of LR: 0.5421\n",
      "Accuracy of RF: 0.6979\n",
      "Accuracy of SVM: 0.6759\n",
      "Auroc of LR: 0.5000\n",
      "Auroc of RF: 0.6951\n",
      "Auroc of SVM: 0.6743\n"
     ]
    },
    {
     "name": "stderr",
     "output_type": "stream",
     "text": [
      "/work/home/nhkim/anaconda3/envs/bis332-conda/lib/python3.6/site-packages/sklearn/utils/validation.py:73: DataConversionWarning: A column-vector y was passed when a 1d array was expected. Please change the shape of y to (n_samples, ), for example using ravel().\n",
      "  return f(**kwargs)\n"
     ]
    }
   ],
   "source": [
    "for j in range(5):\n",
    "    for i in range(1, 6):\n",
    "        tr_features, tr_labels, te_features, te_labels = data(i)\n",
    "        lr_run(tr_features, tr_labels, te_features, te_labels)\n",
    "        rf_run(tr_features, tr_labels, te_features, te_labels)\n",
    "        svm_run(tr_features, tr_labels, te_features, te_labels)\n",
    "\n",
    "print(f\"Accuracy of LR: {lr_avg/25.0:.4f}\")\n",
    "print(f\"Accuracy of RF: {rf_avg/25.0:.4f}\")\n",
    "print(f\"Accuracy of SVM: {svm_avg/25.0:.4f}\")\n",
    "print(f\"Auroc of LR: {lr_auroc/25.0:.4f}\")\n",
    "print(f\"Auroc of RF: {rf_auroc/25.0:.4f}\")\n",
    "print(f\"Auroc of SVM: {svm_auroc/25.0:.4f}\")"
   ]
  }
 ],
 "metadata": {
  "kernelspec": {
   "display_name": "bis332-conda",
   "language": "python",
   "name": "python3"
  },
  "language_info": {
   "codemirror_mode": {
    "name": "ipython",
    "version": 3
   },
   "file_extension": ".py",
   "mimetype": "text/x-python",
   "name": "python",
   "nbconvert_exporter": "python",
   "pygments_lexer": "ipython3",
   "version": "3.6.10"
  }
 },
 "nbformat": 4,
 "nbformat_minor": 2
}
