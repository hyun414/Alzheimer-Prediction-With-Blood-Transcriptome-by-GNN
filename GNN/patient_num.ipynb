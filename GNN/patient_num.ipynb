{
 "cells": [
  {
   "cell_type": "code",
   "execution_count": 1,
   "metadata": {},
   "outputs": [],
   "source": [
    "import pandas as pd\n",
    "import numpy as np\n",
    "import csv\n",
    "from sklearn.model_selection import train_test_split"
   ]
  },
  {
   "cell_type": "code",
   "execution_count": 2,
   "metadata": {},
   "outputs": [],
   "source": [
    "total_label = pd.read_csv('/work/home/nhkim/BiS495/data_f/f_label.csv')\n",
    "\n",
    "split1_train = pd.read_csv('/work/home/nhkim/BiS495/GNN/input_features_labels/split1_train_labels.csv')\n",
    "split1_test = pd.read_csv('/work/home/nhkim/BiS495/GNN/input_features_labels/split1_test_labels.csv')\n",
    "\n",
    "split2_train = pd.read_csv('/work/home/nhkim/BiS495/GNN/input_features_labels/split2_train_labels.csv')\n",
    "split2_test = pd.read_csv('/work/home/nhkim/BiS495/GNN/input_features_labels/split2_test_labels.csv')\n",
    "\n",
    "split3_train = pd.read_csv('/work/home/nhkim/BiS495/GNN/input_features_labels/split3_train_labels.csv')\n",
    "split3_test = pd.read_csv('/work/home/nhkim/BiS495/GNN/input_features_labels/split3_test_labels.csv')\n",
    "\n",
    "split4_train = pd.read_csv('/work/home/nhkim/BiS495/GNN/input_features_labels/split4_train_labels.csv')\n",
    "split4_test = pd.read_csv('/work/home/nhkim/BiS495/GNN/input_features_labels/split4_test_labels.csv')\n",
    "\n",
    "split5_train = pd.read_csv('/work/home/nhkim/BiS495/GNN/input_features_labels/split5_train_labels.csv')\n",
    "split5_test = pd.read_csv('/work/home/nhkim/BiS495/GNN/input_features_labels/split5_test_labels.csv')"
   ]
  },
  {
   "cell_type": "code",
   "execution_count": 3,
   "metadata": {},
   "outputs": [],
   "source": [
    "def count(df):\n",
    "    count_values = df['diagnosis'].value_counts()\n",
    "\n",
    "    count_0 = count_values.get(0, 0)\n",
    "    count_1 = count_values.get(1, 0)\n",
    "\n",
    "    return count_0, count_1"
   ]
  },
  {
   "cell_type": "code",
   "execution_count": 7,
   "metadata": {},
   "outputs": [],
   "source": [
    "tot_0, tot_1 = count(total_label)\n",
    "\n",
    "s1_tr_0, s1_tr_1 = count(split1_train)\n",
    "s1_te_0, s1_te_1 = count(split1_test)\n",
    "\n",
    "s2_tr_0, s2_tr_1 = count(split2_train)\n",
    "s2_te_0, s2_te_1 = count(split2_test)\n",
    "\n",
    "s3_tr_0, s3_tr_1 = count(split3_train)\n",
    "s3_te_0, s3_te_1 = count(split3_test)\n",
    "\n",
    "s4_tr_0, s4_tr_1 = count(split4_train)\n",
    "s4_te_0, s4_te_1 = count(split4_test)\n",
    "\n",
    "s5_tr_0, s5_tr_1 = count(split5_train)\n",
    "s5_te_0, s5_te_1 = count(split5_test)"
   ]
  },
  {
   "cell_type": "code",
   "execution_count": 8,
   "metadata": {},
   "outputs": [
    {
     "name": "stdout",
     "output_type": "stream",
     "text": [
      "374 347\n",
      "284 292\n",
      "90 55\n",
      "295 281\n",
      "79 66\n",
      "305 271\n",
      "69 76\n",
      "298 278\n",
      "76 69\n",
      "295 281\n",
      "79 66\n"
     ]
    }
   ],
   "source": [
    "print(tot_0, tot_1)\n",
    "\n",
    "print(s1_tr_0, s1_tr_1)\n",
    "print(s1_te_0, s1_te_1)\n",
    "\n",
    "print(s2_tr_0, s2_tr_1)\n",
    "print(s2_te_0, s2_te_1)\n",
    "\n",
    "print(s3_tr_0, s3_tr_1)\n",
    "print(s3_te_0, s3_te_1)\n",
    "\n",
    "print(s4_tr_0, s4_tr_1)\n",
    "print(s4_te_0, s4_te_1)\n",
    "\n",
    "print(s5_tr_0, s5_tr_1)\n",
    "print(s5_te_0, s5_te_1)"
   ]
  },
  {
   "cell_type": "code",
   "execution_count": 9,
   "metadata": {},
   "outputs": [],
   "source": [
    "ADNI_label = pd.read_csv('/work/home/nhkim/BiS495/data_f/ADNI_label.csv')\n",
    "ANM1_label = pd.read_csv('/work/home/nhkim/BiS495/data_f/ANM1_label.csv')\n",
    "ANM2_label = pd.read_csv('/work/home/nhkim/BiS495/data_f/ANM2_label.csv')"
   ]
  },
  {
   "cell_type": "code",
   "execution_count": 10,
   "metadata": {},
   "outputs": [],
   "source": [
    "def count_mci(df):\n",
    "    count_values = df['diagnosis'].value_counts()\n",
    "\n",
    "    count_1 = count_values.get(1, 0)\n",
    "    count_2 = count_values.get(2, 0)\n",
    "    count_3 = count_values.get(3, 0)\n",
    "\n",
    "    return count_1, count_2, count_3"
   ]
  },
  {
   "cell_type": "code",
   "execution_count": 11,
   "metadata": {},
   "outputs": [],
   "source": [
    "andi_1, andi_2, andi_3 = count_mci(ADNI_label)\n",
    "anm1_1, anm1_2, anm1_3 = count_mci(ANM1_label)\n",
    "anm2_1, anm2_2, anm2_3 = count_mci(ANM2_label)"
   ]
  },
  {
   "cell_type": "code",
   "execution_count": 12,
   "metadata": {},
   "outputs": [
    {
     "name": "stdout",
     "output_type": "stream",
     "text": [
      "136 230 63\n",
      "104 80 145\n",
      "134 109 139\n"
     ]
    }
   ],
   "source": [
    "print(andi_1, andi_2, andi_3)\n",
    "print(anm1_1, anm1_2, anm1_3)\n",
    "print(anm2_1, anm2_2, anm2_3)"
   ]
  }
 ],
 "metadata": {
  "kernelspec": {
   "display_name": "bis332-conda",
   "language": "python",
   "name": "python3"
  },
  "language_info": {
   "codemirror_mode": {
    "name": "ipython",
    "version": 3
   },
   "file_extension": ".py",
   "mimetype": "text/x-python",
   "name": "python",
   "nbconvert_exporter": "python",
   "pygments_lexer": "ipython3",
   "version": "3.6.10"
  }
 },
 "nbformat": 4,
 "nbformat_minor": 2
}
