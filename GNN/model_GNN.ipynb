{
 "cells": [
  {
   "cell_type": "code",
   "execution_count": null,
   "metadata": {},
   "outputs": [],
   "source": [
    "import torch\n",
    "print(torch.__version__)\n",
    "print(torch.version.cuda)"
   ]
  },
  {
   "cell_type": "code",
   "execution_count": null,
   "metadata": {},
   "outputs": [],
   "source": [
    "cd BiS495/GNN"
   ]
  },
  {
   "cell_type": "code",
   "execution_count": 19,
   "metadata": {},
   "outputs": [],
   "source": [
    "import os\n",
    "import logging\n",
    "import numpy as np\n",
    "import pandas as pd\n",
    "import random\n",
    "import adabound\n",
    "import pickle\n",
    "from torch.utils.data import DataLoader, TensorDataset\n",
    "from sklearn.metrics import roc_auc_score\n",
    "\n",
    "import torch\n",
    "\n",
    "# Env\n",
    "from utils import *\n",
    "from model_GAT import *\n",
    "from options import parse_args\n",
    "from test_model import test"
   ]
  },
  {
   "cell_type": "code",
   "execution_count": null,
   "metadata": {},
   "outputs": [],
   "source": [
    "opt = parse_args()\n",
    "opt.lin_input_dim = 958\n",
    "# opt.lin_input_dim = 1916\n",
    "opt.act_type = 'SM'\n",
    "opt.optimizer_type = 'adabound'\n",
    "opt.lr = 0.00001\n",
    "opt.batch_size = 64\n",
    "k = 5\n",
    "# opt.num_epochs = 100\n",
    "opt.num_epochs = 50"
   ]
  },
  {
   "cell_type": "code",
   "execution_count": null,
   "metadata": {},
   "outputs": [],
   "source": [
    "tr_features, tr_labels, te_features, te_labels, adj_matrix = load_csv_data(k, opt)"
   ]
  },
  {
   "cell_type": "code",
   "execution_count": 22,
   "metadata": {},
   "outputs": [],
   "source": [
    "device = torch.device('cpu')\n",
    "adj = adj_matrix.to(device)"
   ]
  },
  {
   "cell_type": "code",
   "execution_count": 23,
   "metadata": {},
   "outputs": [],
   "source": [
    "train_dataset = TensorDataset(tr_features, tr_labels)\n",
    "train_loader = DataLoader(dataset=train_dataset, batch_size=opt.batch_size, shuffle=True)"
   ]
  },
  {
   "cell_type": "code",
   "execution_count": 24,
   "metadata": {},
   "outputs": [],
   "source": [
    "def acc_test(out, lb):\n",
    "    score = 0\n",
    "    out = out.flatten()\n",
    "    # print(out)\n",
    "    out = np.where(out > 0.5, 1.0, 0.0)\n",
    "    lb = np.array(lb.flatten())\n",
    "    # print(lb)\n",
    "    score += np.sum(out == lb)\n",
    "    return score"
   ]
  },
  {
   "cell_type": "code",
   "execution_count": 25,
   "metadata": {},
   "outputs": [],
   "source": [
    "def auroc_score(out, lb):\n",
    "    out = out.flatten()\n",
    "    lb = np.array(lb.flatten())\n",
    "    # print(out)\n",
    "    # print(lb)\n",
    "    if isinstance(out, torch.Tensor):\n",
    "        out = out.detach().cpu().numpy()\n",
    "    if isinstance(lb, torch.Tensor):\n",
    "        lb = lb.detach().cpu().numpy()\n",
    "    # roc_auc_score는 실제 레이블과 예측 확률을 받아 AUROC 값을 반환\n",
    "    auroc = roc_auc_score(lb, out)\n",
    "    \n",
    "    return auroc"
   ]
  },
  {
   "cell_type": "code",
   "execution_count": 26,
   "metadata": {},
   "outputs": [],
   "source": [
    "def preprocess(labels):\n",
    "    n = len(labels)\n",
    "    one_hot = torch.zeros(n, 2)\n",
    "\n",
    "    for i in range(n):\n",
    "        if labels[i] == 0:\n",
    "            one_hot[i] = torch.tensor([1, 0])\n",
    "        elif labels[i] == 1:\n",
    "            one_hot[i] = torch.tensor([0, 1])\n",
    "    \n",
    "    return one_hot"
   ]
  },
  {
   "cell_type": "code",
   "execution_count": 27,
   "metadata": {},
   "outputs": [],
   "source": [
    "def initialize_weights(layer):\n",
    "    if isinstance(layer, nn.Linear):\n",
    "        nn.init.xavier_normal_(layer.weight)  # Sigmoid를 사용하는 경우\n",
    "        if layer.bias is not None:\n",
    "            nn.init.zeros_(layer.bias)"
   ]
  },
  {
   "cell_type": "code",
   "execution_count": 28,
   "metadata": {},
   "outputs": [],
   "source": [
    "def train_model(config):\n",
    "    opt.lr = config[\"lr\"]\n",
    "    opt.optimizer_type = config[\"optimizer_type\"]\n",
    "    opt.final_lr = config[\"final_lr\"]\n",
    "    opt.weight_decay = config[\"weight_decay\"]\n",
    "    opt.alpha = config[\"alpha\"]\n",
    "    num_models = 50\n",
    "    models = []\n",
    "    optimizers = []\n",
    "\n",
    "    for i in range(num_models):\n",
    "        print(f\"Training {i+1}/{num_models}th GNN Model\")\n",
    "\n",
    "        # 랜덤한 피처 서브샘플링 (feature drop 방식)\n",
    "        feature_mask = np.random.rand(479) > 0.3\n",
    "\n",
    "        # 새로운 모델 생성 (랜덤 초기화)\n",
    "        model = GAT(\n",
    "            opt=opt, \n",
    "            input_dim=opt.input_dim, \n",
    "            omic_dim=opt.omic_dim, \n",
    "            label_dim=opt.label_dim, \n",
    "            dropout=opt.dropout, \n",
    "            alpha=opt.alpha, \n",
    "            nhids=config[\"nhids\"], \n",
    "            nheads=config[\"nheads\"], \n",
    "            fc=config[\"fc_dim\"]\n",
    "        ).to(device)\n",
    "        model.apply(initialize_weights)\n",
    "\n",
    "        criterion = nn.CrossEntropyLoss()\n",
    "        optimizer = define_optimizer(opt, model)\n",
    "\n",
    "        max_acc = 0\n",
    "        for epoch in range(opt.num_epochs):\n",
    "            model.train()\n",
    "            running_loss = 0.0\n",
    "            running_acc = 0.0\n",
    "            all_outs = np.empty(0)\n",
    "            all_labels = np.empty(0)\n",
    "\n",
    "            for features, labels in train_loader:\n",
    "                features = features.float().to(device)\n",
    "                labels = labels.float().to(device)\n",
    "\n",
    "                optimizer.zero_grad()\n",
    "\n",
    "                # 랜덤한 피처 서브샘플링 적용\n",
    "                features[:, feature_mask, :] = 0 \n",
    "\n",
    "                outputs = model(features, adj, labels, opt)\n",
    "                labels_change = preprocess(labels)\n",
    "\n",
    "                loss = criterion(outputs, labels_change)\n",
    "                loss.backward()\n",
    "                optimizer.step()\n",
    "\n",
    "                # 예측 및 평가\n",
    "                outs = (outputs[:, 0] < 0.5).long()\n",
    "                acc = acc_test(outs, labels)\n",
    "\n",
    "                all_outs = np.concatenate((all_outs, outs.cpu().numpy()))\n",
    "                all_labels = np.concatenate((all_labels, labels.view(-1).cpu().numpy()))\n",
    "\n",
    "                running_loss += loss.item()\n",
    "                running_acc += acc.item()\n",
    "\n",
    "            auroc = auroc_score(all_outs, all_labels)\n",
    "\n",
    "            print(f'Epoch [{epoch+1}/{opt.num_epochs}], Loss: {running_loss/len(train_loader):.4f}, Acc: {running_acc/len(train_loader):.4f}, Auroc: {auroc:.4f}')\n",
    "            \n",
    "            if running_acc > max_acc:\n",
    "                best_model = model\n",
    "                max_acc = running_acc\n",
    "\n",
    "        print(f\"Completed training {i+1}/{num_models}th model with max_acc: {max_acc:.4f}\")\n",
    "        models.append(best_model)\n",
    "        optimizers.append(optimizer)\n",
    "\n",
    "    print(\"Training of all models completed.\")\n",
    "\n",
    "    return models, max_acc"
   ]
  },
  {
   "cell_type": "code",
   "execution_count": 29,
   "metadata": {},
   "outputs": [],
   "source": [
    "te_dataset = TensorDataset(te_features, te_labels)\n",
    "\n",
    "test_loader = DataLoader(\n",
    "    te_dataset,\n",
    "    batch_size=opt.batch_size,\n",
    "    shuffle=False\n",
    ")"
   ]
  },
  {
   "cell_type": "code",
   "execution_count": 30,
   "metadata": {},
   "outputs": [],
   "source": [
    "def ensemble_predict(models, test_loader):\n",
    "    all_preds = []\n",
    "    \n",
    "    for model in models:\n",
    "        model.eval()\n",
    "        preds = []\n",
    "        \n",
    "        with torch.no_grad():\n",
    "            for features, labels in test_loader:\n",
    "                features = features.float().to(device)\n",
    "                outputs = model(features, adj, labels, opt)\n",
    "                preds.append((outputs[:, 0] < 0.5).long().cpu().numpy())\n",
    "\n",
    "        all_preds.append(np.concatenate(preds, axis=0))\n",
    "\n",
    "    # ensemble\n",
    "    final_preds = np.round(np.mean(np.stack(all_preds, axis=0), axis=0)).astype(int)\n",
    "\n",
    "    return final_preds"
   ]
  },
  {
   "cell_type": "code",
   "execution_count": 31,
   "metadata": {},
   "outputs": [],
   "source": [
    "def train_test_model(config):\n",
    "    model, max_acc = train_model(config)\n",
    "    preds_real = ensemble_predict(model, test_loader)\n",
    "    preds_real = np.array(preds_real)\n",
    "    preds = (preds_real < 0.5).astype(int)\n",
    "    print(preds_real.reshape(-1))\n",
    "    print(preds)\n",
    "    print(te_labels.view(-1))\n",
    "    acc = acc_test(preds, te_labels)\n",
    "    auroc = auroc_score(preds, te_labels)\n",
    "\n",
    "    print(f'Acc: {acc/len(te_labels):.4f}, Auroc: {auroc:.4f}')\n",
    "    print(f'Train Acc: {max_acc/len(train_loader):.4f}')\n",
    "\n",
    "    return acc, auroc"
   ]
  },
  {
   "cell_type": "code",
   "execution_count": 32,
   "metadata": {},
   "outputs": [],
   "source": [
    "# search_space = {\n",
    "#     \"optimizer_type\": tune.choice([\"adam\", \"adagrad\", \"adabound\"]),\n",
    "#     \"lr\": tune.loguniform(1e-5, 1e-2),\n",
    "#     \"final_lr\": tune.uniform(1e-3, 1e-1),\n",
    "#     \"weight_decay\": tune.uniform(1e-5, 1e-3),\n",
    "#     \"dropout\": tune.uniform(0.1, 0.5),\n",
    "#     \"alpha\": tune.uniform(0.1, 0.3),\n",
    "#     \"nhids\": tune.choice([[8, 16, 32], [8, 16, 16], [8, 8, 8]]),\n",
    "#     \"nheads\": tune.choice([[4, 3, 4], [4, 4, 4], [2, 2, 2]]),\n",
    "#     \"fc_dim\": tune.choice([[256, 128, 64, 32], [128, 64, 32, 16], [512, 256, 64, 32]]),\n",
    "# }\n",
    "\n",
    "\n",
    "# analysis = tune.run(\n",
    "#     train_test_model,\n",
    "#     config=search_space,\n",
    "#     metric=\"accuracy\",\n",
    "#     mode=\"max\",\n",
    "#     num_samples = 10,\n",
    "#     max_concurrent_trials = 1\n",
    "# )\n",
    "\n",
    "# print(\"Best config: \", analysis.best_config)"
   ]
  },
  {
   "cell_type": "code",
   "execution_count": null,
   "metadata": {},
   "outputs": [],
   "source": [
    "config = {\n",
    "    \"optimizer_type\": \"adabound\",\n",
    "     \"lr\": 0.00005,\n",
    "     \"final_lr\": 0.1,\n",
    "     \"weight_decay\": 5e-4,\n",
    "     \"dropout\": 0.0,\n",
    "     \"alpha\": 0.1,\n",
    "     \"nhids\": [8, 16, 32],\n",
    "     \"nheads\": [4, 3, 4],\n",
    "     \"fc_dim\": [256, 128, 64, 16]\n",
    "}\n",
    "\n",
    "acc_list = []\n",
    "\n",
    "for i in range(30):\n",
    "    acc, auroc = train_test_model(config)\n",
    "    if auroc > 0.5:\n",
    "        acc_list.append(acc)\n",
    "\n",
    "print(acc_list)"
   ]
  },
  {
   "cell_type": "code",
   "execution_count": null,
   "metadata": {},
   "outputs": [],
   "source": [
    "preds_real = ensemble_predict(model, test_loader, device)\n",
    "preds_real = np.array(preds_real)\n",
    "preds = (preds_real[:, 0] < 0.5).astype(int)\n",
    "\n",
    "acc = acc_test(preds, te_labels)\n",
    "auroc = auroc_score(preds, te_labels)"
   ]
  }
 ],
 "metadata": {
  "kernelspec": {
   "display_name": "base",
   "language": "python",
   "name": "python3"
  },
  "language_info": {
   "codemirror_mode": {
    "name": "ipython",
    "version": 3
   },
   "file_extension": ".py",
   "mimetype": "text/x-python",
   "name": "python",
   "nbconvert_exporter": "python",
   "pygments_lexer": "ipython3",
   "version": "3.7.3"
  }
 },
 "nbformat": 4,
 "nbformat_minor": 2
}
