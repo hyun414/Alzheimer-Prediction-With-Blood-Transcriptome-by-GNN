{
 "cells": [
  {
   "cell_type": "code",
   "execution_count": 1,
   "metadata": {},
   "outputs": [],
   "source": [
    "import pandas as pd\n",
    "import numpy as np\n",
    "import csv\n",
    "from sklearn.model_selection import train_test_split\n",
    "\n",
    "total_data = pd.read_csv('/work/home/nhkim/BiS495/data_f/f_data.csv')\n",
    "total_label = pd.read_csv('/work/home/nhkim/BiS495/data_f/f_label.csv')"
   ]
  },
  {
   "cell_type": "code",
   "execution_count": 2,
   "metadata": {},
   "outputs": [],
   "source": [
    "labels = total_label.iloc[:, 1]"
   ]
  },
  {
   "cell_type": "code",
   "execution_count": 3,
   "metadata": {},
   "outputs": [],
   "source": [
    "features_labels = pd.concat([total_data, labels], axis=1)"
   ]
  },
  {
   "cell_type": "code",
   "execution_count": 4,
   "metadata": {},
   "outputs": [],
   "source": [
    "y = labels"
   ]
  },
  {
   "cell_type": "code",
   "execution_count": 5,
   "metadata": {},
   "outputs": [
    {
     "name": "stdout",
     "output_type": "stream",
     "text": [
      "          0         1         2         3         4         5         6  \\\n",
      "0  8.110785  7.527334  6.379779  7.971398  6.677240  5.872398  7.161690   \n",
      "1  7.960384  5.086273  6.880915  8.195824  6.237964  5.980253  7.623397   \n",
      "2  7.591670  6.413180  6.707564  8.256800  6.631452  5.947258  7.056112   \n",
      "3  7.829147  7.111781  6.900452  8.521877  6.406448  6.139907  7.595821   \n",
      "4  8.342845  5.127953  6.695470  8.152632  6.253346  6.072498  7.482364   \n",
      "\n",
      "          7         8         9  ...     10015     10016     10017     10018  \\\n",
      "0  7.449903  7.237106  8.176050  ...  7.279014  7.842388  6.913856  7.546089   \n",
      "1  7.828839  6.963444  8.378284  ...  7.776884  7.398442  6.924630  7.915954   \n",
      "2  7.884872  6.801298  7.936724  ...  7.692020  7.755575  7.170741  8.213334   \n",
      "3  7.697779  6.643958  8.198128  ...  8.146245  7.142944  6.853254  8.547885   \n",
      "4  7.682583  6.960880  8.186647  ...  7.539264  7.351154  6.867394  8.007027   \n",
      "\n",
      "      10019     10020     10021     10022     10023     10024  \n",
      "0  6.793127  7.921469  7.423306  8.189540  7.994846  8.503259  \n",
      "1  7.471142  7.576872  6.643026  8.408119  7.184276  8.837037  \n",
      "2  7.609214  7.586088  7.189421  8.701639  7.985889  7.852186  \n",
      "3  7.439517  7.831313  7.062567  8.470002  7.445509  7.546429  \n",
      "4  7.385523  7.878996  7.069835  8.376326  7.461432  8.176899  \n",
      "\n",
      "[5 rows x 10025 columns]\n"
     ]
    }
   ],
   "source": [
    "features = total_data.iloc[:, 1:]\n",
    "print(features.head())"
   ]
  },
  {
   "cell_type": "code",
   "execution_count": 6,
   "metadata": {},
   "outputs": [
    {
     "name": "stdout",
     "output_type": "stream",
     "text": [
      "0    6761\n",
      "1    4390\n",
      "2    4772\n",
      "3     438\n",
      "4    6806\n",
      "Name: Unnamed: 0, dtype: int64\n"
     ]
    }
   ],
   "source": [
    "deg = pd.read_csv('/work/home/nhkim/BiS495/data_f/degs_results1.csv')\n",
    "degs = deg.iloc[:, 0]\n",
    "print(degs.head())"
   ]
  },
  {
   "cell_type": "code",
   "execution_count": 7,
   "metadata": {},
   "outputs": [
    {
     "name": "stdout",
     "output_type": "stream",
     "text": [
      "        6761       4390      4772       438       6806      4415      4902  \\\n",
      "0  10.195639   9.826389  9.196340  8.116862  12.062143  7.433805  9.226381   \n",
      "1  10.909909   9.948262  9.153773  8.211922  11.955531  8.181983  9.307198   \n",
      "2  10.550806   9.929144  9.077154  8.076999  11.951677  8.299971  9.064747   \n",
      "3  10.227122   9.589812  9.175057  7.988072  11.913143  8.801196  8.963114   \n",
      "4  10.729866  10.010393  9.030330  8.099486  12.082695  8.133507  9.238626   \n",
      "\n",
      "       8048      1474      5170  ...      9512       374      1222      8228  \\\n",
      "0  7.903939  9.073814  9.748895  ...  9.469126  7.751079  7.151573  6.433260   \n",
      "1  8.066370  9.253318  9.700099  ...  9.363731  8.377814  6.663006  6.589099   \n",
      "2  7.700229  8.944221  9.334127  ...  9.506126  7.929290  7.091007  7.059369   \n",
      "3  7.495984  8.861036  9.784554  ...  9.624975  7.970709  6.864220  6.641832   \n",
      "4  8.240596  9.284840  9.823966  ...  9.511732  7.858987  6.863211  6.559584   \n",
      "\n",
      "       6289      1155      7923      1097      1131      5000  \n",
      "0  6.650442  7.040761  9.690996  7.258964  7.625838  8.472488  \n",
      "1  7.124233  6.994042  9.118447  7.302933  8.331630  8.621900  \n",
      "2  7.036695  6.574275  9.494752  6.964789  7.879347  8.735064  \n",
      "3  6.666686  6.616747  9.227697  7.403783  8.196233  8.580348  \n",
      "4  6.789872  6.877951  9.324808  7.119728  8.215438  8.541448  \n",
      "\n",
      "[5 rows x 479 columns]\n"
     ]
    }
   ],
   "source": [
    "columns_to_keep = degs.values\n",
    "features_filtered = features.iloc[:, columns_to_keep]\n",
    "\n",
    "print(features_filtered.head())"
   ]
  },
  {
   "cell_type": "code",
   "execution_count": 8,
   "metadata": {},
   "outputs": [],
   "source": [
    "X = features_filtered"
   ]
  },
  {
   "cell_type": "code",
   "execution_count": 24,
   "metadata": {},
   "outputs": [],
   "source": [
    "X_train, X_test, y_train, y_test = train_test_split(X, y, test_size = 0.2, random_state = 5)"
   ]
  },
  {
   "cell_type": "code",
   "execution_count": 25,
   "metadata": {},
   "outputs": [
    {
     "name": "stdout",
     "output_type": "stream",
     "text": [
      "          6761       4390      4772       438       6806      4415      4902  \\\n",
      "660  10.321590   9.234372  8.646292  8.210123  11.674369  7.954473  8.773571   \n",
      "406   9.996594   9.217944  8.636314  8.000505  11.491029  7.382976  8.737983   \n",
      "163   9.642719   8.968500  8.826011  8.075976  11.550917  6.826482  8.686377   \n",
      "419  10.844038  10.596368  9.141555  8.506310  12.344847  8.691002  9.091340   \n",
      "549  10.377840   9.360670  8.756114  8.219171  11.476539  7.833449  8.736166   \n",
      "\n",
      "         8048      1474       5170  ...      9512       374      1222  \\\n",
      "660  7.310106  9.167862   9.336422  ...  9.641312  7.658682  6.794665   \n",
      "406  7.434384  8.852315   8.906093  ...  9.700559  7.560823  6.799043   \n",
      "163  7.617137  8.783981   9.078885  ...  9.243761  7.705300  7.254536   \n",
      "419  8.045017  8.668793  10.028964  ...  9.253344  7.994658  7.327684   \n",
      "549  7.400743  9.397795   9.399076  ...  9.533426  7.675061  7.103646   \n",
      "\n",
      "         8228      6289      1155      7923      1097      1131      5000  \n",
      "660  6.653375  6.952624  6.808716  9.221168  6.834598  7.668259  8.410728  \n",
      "406  7.136549  6.583271  6.635180  9.678480  6.502511  7.579429  8.440555  \n",
      "163  6.769730  6.439718  6.820614  9.724378  6.699578  7.677692  8.399993  \n",
      "419  6.169231  6.796688  6.684827  9.209761  7.115071  7.967523  8.367537  \n",
      "549  6.985151  6.580086  6.503357  9.676698  6.481303  7.554796  8.222350  \n",
      "\n",
      "[5 rows x 479 columns]\n",
      "660    0\n",
      "406    1\n",
      "163    0\n",
      "419    0\n",
      "549    1\n",
      "Name: diagnosis, dtype: int64\n"
     ]
    }
   ],
   "source": [
    "print(X_train.head())\n",
    "print(y_train.head())"
   ]
  },
  {
   "cell_type": "code",
   "execution_count": 26,
   "metadata": {},
   "outputs": [],
   "source": [
    "X_train.to_csv('/work/home/nhkim/BiS495/GNN/input_features_labels/split5_train_features.csv')\n",
    "X_test.to_csv('/work/home/nhkim/BiS495/GNN/input_features_labels/split5_test_features.csv')\n",
    "\n",
    "y_train.to_csv('/work/home/nhkim/BiS495/GNN/input_features_labels/split5_train_labels.csv')\n",
    "y_test.to_csv('/work/home/nhkim/BiS495/GNN/input_features_labels/split5_test_labels.csv')"
   ]
  },
  {
   "cell_type": "code",
   "execution_count": null,
   "metadata": {},
   "outputs": [],
   "source": []
  }
 ],
 "metadata": {
  "kernelspec": {
   "display_name": "bis332-conda",
   "language": "python",
   "name": "python3"
  },
  "language_info": {
   "codemirror_mode": {
    "name": "ipython",
    "version": 3
   },
   "file_extension": ".py",
   "mimetype": "text/x-python",
   "name": "python",
   "nbconvert_exporter": "python",
   "pygments_lexer": "ipython3",
   "version": "3.6.10"
  }
 },
 "nbformat": 4,
 "nbformat_minor": 2
}
