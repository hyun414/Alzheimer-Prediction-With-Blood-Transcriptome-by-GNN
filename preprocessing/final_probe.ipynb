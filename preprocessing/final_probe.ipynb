{
 "cells": [
  {
   "cell_type": "code",
   "execution_count": 9,
   "metadata": {},
   "outputs": [],
   "source": [
    "import csv\n",
    "import numpy as np\n",
    "import pandas as pd\n",
    "\n",
    "f = open(\"/work/home/nhkim/BiS495/data/ADNI_ei_mul.csv\", \"r\")\n",
    "reader = csv.reader(f)\n",
    "profile = list(reader)\n",
    "prof_andi = np.array(profile)\n",
    "\n",
    "f.close()"
   ]
  },
  {
   "cell_type": "code",
   "execution_count": 10,
   "metadata": {},
   "outputs": [],
   "source": [
    "f = open(\"/work/home/nhkim/BiS495/data/ANM1_ei_mul.csv\", \"r\")\n",
    "reader = csv.reader(f)\n",
    "profile = list(reader)\n",
    "prof_anm1 = np.array(profile)\n",
    "\n",
    "f.close()"
   ]
  },
  {
   "cell_type": "code",
   "execution_count": 11,
   "metadata": {},
   "outputs": [],
   "source": [
    "f = open(\"/work/home/nhkim/BiS495/data/ANM2_ei_mul.csv\", \"r\")\n",
    "reader = csv.reader(f)\n",
    "profile = list(reader)\n",
    "prof_anm2 = np.array(profile)\n",
    "\n",
    "f.close()"
   ]
  },
  {
   "cell_type": "code",
   "execution_count": 12,
   "metadata": {},
   "outputs": [],
   "source": [
    "gene_adni = prof_andi[1:,0]\n",
    "gene_anm1 = prof_anm1[1:,0]\n",
    "gene_anm2 = prof_anm2[1:,0]"
   ]
  },
  {
   "cell_type": "code",
   "execution_count": 13,
   "metadata": {},
   "outputs": [
    {
     "name": "stdout",
     "output_type": "stream",
     "text": [
      "['100' '1000' '10000' '10001' '100037417' '10004' '100049587' '10005'\n",
      " '10006' '10007']\n",
      "['1' '9' '14' '16' '18' '19' '20' '21' '22' '23']\n",
      "['1' '2' '9' '12' '14' '16' '18' '19' '20' '21']\n"
     ]
    }
   ],
   "source": [
    "print(gene_adni[:10])\n",
    "print(gene_anm1[:10])\n",
    "print(gene_anm2[:10])\n"
   ]
  },
  {
   "cell_type": "code",
   "execution_count": 16,
   "metadata": {},
   "outputs": [
    {
     "name": "stdout",
     "output_type": "stream",
     "text": [
      "True\n",
      "17191\n",
      "['100' '1000' '10000' ... '9991' '9993' '9997']\n",
      "10025\n"
     ]
    }
   ],
   "source": [
    "common_genes = np.intersect1d(gene_anm2, gene_anm1)\n",
    "\n",
    "print(('9' in common_genes))\n",
    "print(len(common_genes))\n",
    "\n",
    "common_genes = np.intersect1d(common_genes, gene_adni)\n",
    "\n",
    "print(common_genes)\n",
    "print(len(common_genes))"
   ]
  },
  {
   "cell_type": "code",
   "execution_count": 17,
   "metadata": {},
   "outputs": [],
   "source": [
    "def create_dataframe(prof):\n",
    "    columns = prof[0, 1:]\n",
    "    genes = prof[1:, 0]\n",
    "    values = prof[1:, 1:]\n",
    "    return pd.DataFrame(values, index=genes, columns=columns)"
   ]
  },
  {
   "cell_type": "code",
   "execution_count": 19,
   "metadata": {},
   "outputs": [],
   "source": [
    "df_adni = create_dataframe(prof_andi)\n",
    "df_anm1 = create_dataframe(prof_anm1)\n",
    "df_anm2 = create_dataframe(prof_anm2)"
   ]
  },
  {
   "cell_type": "code",
   "execution_count": 20,
   "metadata": {},
   "outputs": [],
   "source": [
    "df_adni_filtered = df_adni.loc[common_genes]\n",
    "df_anm1_filtered = df_anm1.loc[common_genes]\n",
    "df_anm2_filtered = df_anm2.loc[common_genes]"
   ]
  },
  {
   "cell_type": "code",
   "execution_count": 21,
   "metadata": {},
   "outputs": [],
   "source": [
    "df_adni_filtered.to_csv('/work/home/nhkim/BiS495/data/filtered_adni.csv')\n",
    "df_anm1_filtered.to_csv('/work/home/nhkim/BiS495/data/filtered_anm1.csv')\n",
    "df_anm2_filtered.to_csv('/work/home/nhkim/BiS495/data/filtered_anm2.csv')"
   ]
  }
 ],
 "metadata": {
  "kernelspec": {
   "display_name": "bis332-conda",
   "language": "python",
   "name": "python3"
  },
  "language_info": {
   "codemirror_mode": {
    "name": "ipython",
    "version": 3
   },
   "file_extension": ".py",
   "mimetype": "text/x-python",
   "name": "python",
   "nbconvert_exporter": "python",
   "pygments_lexer": "ipython3",
   "version": "3.6.10"
  }
 },
 "nbformat": 4,
 "nbformat_minor": 2
}
