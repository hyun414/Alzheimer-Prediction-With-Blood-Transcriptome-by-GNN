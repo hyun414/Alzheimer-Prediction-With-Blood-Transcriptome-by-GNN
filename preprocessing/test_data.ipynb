{
 "cells": [
  {
   "cell_type": "code",
   "execution_count": 1,
   "metadata": {},
   "outputs": [],
   "source": [
    "import pandas as pd\n",
    "import numpy as np\n",
    "import csv\n",
    "\n",
    "cb_data = pd.read_csv('/work/home/nhkim/BiS495/data_f/filtered_cb.csv')"
   ]
  },
  {
   "cell_type": "code",
   "execution_count": 2,
   "metadata": {},
   "outputs": [
    {
     "name": "stdout",
     "output_type": "stream",
     "text": [
      "   m48 116_S_1249  v03 037_S_4410  v03 006_S_4153  v03 099_S_4205  \\\n",
      "0        8.110785        7.960384        7.591670        8.056624   \n",
      "1        7.527334        5.086273        6.413180        6.280054   \n",
      "2        6.379779        6.880915        6.707564        6.751289   \n",
      "3        7.971398        8.195824        8.256800        8.247484   \n",
      "4        6.677240        6.237964        6.631452        6.648980   \n",
      "\n",
      "   v03 007_S_4467  v06 128_S_0205  bl 003_S_2374  bl 031_S_2018  \\\n",
      "0        8.269936        7.829147       7.584588       8.124117   \n",
      "1        6.028732        7.111781       7.394830       5.727643   \n",
      "2        6.459167        6.900452       6.239609       6.294809   \n",
      "3        8.228853        8.521877       8.360121       8.239862   \n",
      "4        6.773108        6.406448       6.396790       6.746279   \n",
      "\n",
      "   v03 002_S_4654  v03 019_S_4285  ...  GSM1539787  GSM1539788  GSM1539789  \\\n",
      "0        7.813732        8.514495  ...    8.717987    8.275518    8.044958   \n",
      "1        6.068545        6.477255  ...    5.853000    5.721968    5.660371   \n",
      "2        6.543516        6.324889  ...    6.345874    6.453518    6.653353   \n",
      "3        8.251719        7.818957  ...    8.156612    8.321518    7.980447   \n",
      "4        6.368888        6.545242  ...    6.995375    6.693715    7.037203   \n",
      "\n",
      "   GSM1539790  GSM1539791  GSM1539792  GSM1539793  GSM1539794  GSM1539795  \\\n",
      "0    7.488420    7.567366    7.513337    8.170153    8.258927    7.936922   \n",
      "1    6.872471    5.956128    5.906814    5.921323    6.621491    6.391150   \n",
      "2    6.471225    6.500167    6.486940    6.641126    6.708368    6.478339   \n",
      "3    8.148970    8.498584    7.950948    8.112168    7.935200    8.029154   \n",
      "4    6.476373    6.747659    6.472352    6.438639    6.362053    6.474632   \n",
      "\n",
      "   GSM1539796  \n",
      "0    8.403735  \n",
      "1    6.032685  \n",
      "2    6.475049  \n",
      "3    8.374373  \n",
      "4    6.442738  \n",
      "\n",
      "[5 rows x 1146 columns]\n"
     ]
    }
   ],
   "source": [
    "print(cb_data.head())"
   ]
  },
  {
   "cell_type": "code",
   "execution_count": 3,
   "metadata": {},
   "outputs": [],
   "source": [
    "adni_label = pd.read_csv('/work/home/nhkim/BiS495/data_f/ADNI_label.csv')\n",
    "anm1_label = pd.read_csv('/work/home/nhkim/BiS495/data_f/ANM1_label.csv')\n",
    "anm2_label = pd.read_csv('/work/home/nhkim/BiS495/data_f/ANM2_label.csv')"
   ]
  },
  {
   "cell_type": "code",
   "execution_count": 4,
   "metadata": {},
   "outputs": [],
   "source": [
    "filtered_labels_adni = adni_label[adni_label['diagnosis'].isin([1, 3])]\n",
    "filtered_labels_anm1 = anm1_label[anm1_label['diagnosis'].isin([1, 3])]\n",
    "filtered_labels_anm2 = anm2_label[anm2_label['diagnosis'].isin([1, 3])]"
   ]
  },
  {
   "cell_type": "code",
   "execution_count": 6,
   "metadata": {},
   "outputs": [
    {
     "name": "stdout",
     "output_type": "stream",
     "text": [
      "                id  diagnosis\n",
      "0   m48 116_S_1249          1\n",
      "1   v03 037_S_4410          1\n",
      "2   v03 006_S_4153          3\n",
      "5   v06 128_S_0205          1\n",
      "12  v03 037_S_4308          1\n"
     ]
    }
   ],
   "source": [
    "print(filtered_labels_adni.head())"
   ]
  },
  {
   "cell_type": "code",
   "execution_count": 7,
   "metadata": {},
   "outputs": [],
   "source": [
    "label = pd.concat([filtered_labels_adni, filtered_labels_anm1, filtered_labels_anm2], axis=0, ignore_index=True)"
   ]
  },
  {
   "cell_type": "code",
   "execution_count": 8,
   "metadata": {},
   "outputs": [
    {
     "name": "stdout",
     "output_type": "stream",
     "text": [
      "               id  diagnosis\n",
      "0  m48 116_S_1249          1\n",
      "1  v03 037_S_4410          1\n",
      "2  v03 006_S_4153          3\n",
      "3  v06 128_S_0205          1\n",
      "4  v03 037_S_4308          1\n"
     ]
    }
   ],
   "source": [
    "print(label.head())"
   ]
  },
  {
   "cell_type": "code",
   "execution_count": 9,
   "metadata": {},
   "outputs": [],
   "source": [
    "data = cb_data.T"
   ]
  },
  {
   "cell_type": "code",
   "execution_count": 10,
   "metadata": {},
   "outputs": [
    {
     "name": "stdout",
     "output_type": "stream",
     "text": [
      "                   0         1         2         3         4         5      \\\n",
      "m48 116_S_1249  8.110785  7.527334  6.379779  7.971398  6.677240  5.872398   \n",
      "v03 037_S_4410  7.960384  5.086273  6.880915  8.195824  6.237964  5.980253   \n",
      "v03 006_S_4153  7.591670  6.413180  6.707564  8.256800  6.631452  5.947258   \n",
      "v03 099_S_4205  8.056624  6.280054  6.751289  8.247484  6.648980  6.245989   \n",
      "v03 007_S_4467  8.269936  6.028732  6.459167  8.228853  6.773108  6.180353   \n",
      "\n",
      "                   6         7         8         9      ...     10015  \\\n",
      "m48 116_S_1249  7.161690  7.449903  7.237106  8.176050  ...  7.279014   \n",
      "v03 037_S_4410  7.623397  7.828839  6.963444  8.378284  ...  7.776884   \n",
      "v03 006_S_4153  7.056112  7.884872  6.801298  7.936724  ...  7.692020   \n",
      "v03 099_S_4205  7.546971  7.491691  7.082009  8.097452  ...  7.545730   \n",
      "v03 007_S_4467  7.034051  7.964648  6.749706  7.856361  ...  7.852049   \n",
      "\n",
      "                   10016     10017     10018     10019     10020     10021  \\\n",
      "m48 116_S_1249  7.842388  6.913856  7.546089  6.793127  7.921469  7.423306   \n",
      "v03 037_S_4410  7.398442  6.924630  7.915954  7.471142  7.576872  6.643026   \n",
      "v03 006_S_4153  7.755575  7.170741  8.213334  7.609214  7.586088  7.189421   \n",
      "v03 099_S_4205  7.449965  6.883892  8.122261  7.417919  8.080946  6.820753   \n",
      "v03 007_S_4467  7.496548  7.052231  8.112039  7.170316  7.413789  6.768558   \n",
      "\n",
      "                   10022     10023     10024  \n",
      "m48 116_S_1249  8.189540  7.994846  8.503259  \n",
      "v03 037_S_4410  8.408119  7.184276  8.837037  \n",
      "v03 006_S_4153  8.701639  7.985889  7.852186  \n",
      "v03 099_S_4205  8.550621  7.732617  8.075529  \n",
      "v03 007_S_4467  8.521099  7.697786  8.454635  \n",
      "\n",
      "[5 rows x 10025 columns]\n"
     ]
    }
   ],
   "source": [
    "print(data.head())"
   ]
  },
  {
   "cell_type": "code",
   "execution_count": 11,
   "metadata": {},
   "outputs": [],
   "source": [
    "id = label['id'].tolist()\n",
    "print(id[:5])\n",
    "filtered_data = data.loc[data.index.isin(id)]"
   ]
  },
  {
   "cell_type": "code",
   "execution_count": 13,
   "metadata": {},
   "outputs": [
    {
     "name": "stdout",
     "output_type": "stream",
     "text": [
      "                   0         1         2         3         4         5      \\\n",
      "m48 116_S_1249  8.110785  7.527334  6.379779  7.971398  6.677240  5.872398   \n",
      "v03 037_S_4410  7.960384  5.086273  6.880915  8.195824  6.237964  5.980253   \n",
      "v03 006_S_4153  7.591670  6.413180  6.707564  8.256800  6.631452  5.947258   \n",
      "v06 128_S_0205  7.829147  7.111781  6.900452  8.521877  6.406448  6.139907   \n",
      "v03 037_S_4308  8.342845  5.127953  6.695470  8.152632  6.253346  6.072498   \n",
      "\n",
      "                   6         7         8         9      ...     10015  \\\n",
      "m48 116_S_1249  7.161690  7.449903  7.237106  8.176050  ...  7.279014   \n",
      "v03 037_S_4410  7.623397  7.828839  6.963444  8.378284  ...  7.776884   \n",
      "v03 006_S_4153  7.056112  7.884872  6.801298  7.936724  ...  7.692020   \n",
      "v06 128_S_0205  7.595821  7.697779  6.643958  8.198128  ...  8.146245   \n",
      "v03 037_S_4308  7.482364  7.682583  6.960880  8.186647  ...  7.539264   \n",
      "\n",
      "                   10016     10017     10018     10019     10020     10021  \\\n",
      "m48 116_S_1249  7.842388  6.913856  7.546089  6.793127  7.921469  7.423306   \n",
      "v03 037_S_4410  7.398442  6.924630  7.915954  7.471142  7.576872  6.643026   \n",
      "v03 006_S_4153  7.755575  7.170741  8.213334  7.609214  7.586088  7.189421   \n",
      "v06 128_S_0205  7.142944  6.853254  8.547885  7.439517  7.831313  7.062567   \n",
      "v03 037_S_4308  7.351154  6.867394  8.007027  7.385523  7.878996  7.069835   \n",
      "\n",
      "                   10022     10023     10024  \n",
      "m48 116_S_1249  8.189540  7.994846  8.503259  \n",
      "v03 037_S_4410  8.408119  7.184276  8.837037  \n",
      "v03 006_S_4153  8.701639  7.985889  7.852186  \n",
      "v06 128_S_0205  8.470002  7.445509  7.546429  \n",
      "v03 037_S_4308  8.376326  7.461432  8.176899  \n",
      "\n",
      "[5 rows x 10025 columns]\n"
     ]
    }
   ],
   "source": [
    "print(filtered_data.head())"
   ]
  },
  {
   "cell_type": "code",
   "execution_count": 17,
   "metadata": {},
   "outputs": [
    {
     "name": "stdout",
     "output_type": "stream",
     "text": [
      "               id  diagnosis\n",
      "0  m48 116_S_1249          0\n",
      "1  v03 037_S_4410          0\n",
      "2  v03 006_S_4153          1\n",
      "3  v06 128_S_0205          0\n",
      "4  v03 037_S_4308          0\n"
     ]
    }
   ],
   "source": [
    "label_new = label\n",
    "label_new['diagnosis'] = label['diagnosis'].replace({1: 0, 3: 1})\n",
    "print(label_new.head())"
   ]
  },
  {
   "cell_type": "code",
   "execution_count": 18,
   "metadata": {},
   "outputs": [],
   "source": [
    "filtered_data.to_csv('/work/home/nhkim/BiS495/data_f/f_data.csv')\n",
    "label.to_csv('/work/home/nhkim/BiS495/data_f/label_concat.csv')\n",
    "label_new.to_csv('/work/home/nhkim/BiS495/data_f/f_label.csv', index=False)"
   ]
  }
 ],
 "metadata": {
  "kernelspec": {
   "display_name": "bis332-conda",
   "language": "python",
   "name": "python3"
  },
  "language_info": {
   "codemirror_mode": {
    "name": "ipython",
    "version": 3
   },
   "file_extension": ".py",
   "mimetype": "text/x-python",
   "name": "python",
   "nbconvert_exporter": "python",
   "pygments_lexer": "ipython3",
   "version": "3.6.10"
  }
 },
 "nbformat": 4,
 "nbformat_minor": 2
}
