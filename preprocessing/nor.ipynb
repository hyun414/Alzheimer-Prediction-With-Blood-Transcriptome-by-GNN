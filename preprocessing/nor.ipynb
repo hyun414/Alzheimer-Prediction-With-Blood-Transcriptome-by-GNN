{
 "cells": [
  {
   "cell_type": "code",
   "execution_count": 14,
   "metadata": {},
   "outputs": [],
   "source": [
    "import pandas as pd\n",
    "import numpy as np\n",
    "import csv\n",
    "\n",
    "cb_data = pd.read_csv('/work/home/nhkim/BiS495/data_f/filtered_cb.csv')"
   ]
  },
  {
   "cell_type": "code",
   "execution_count": 5,
   "metadata": {},
   "outputs": [],
   "source": [
    "adni = pd.read_csv('/work/home/nhkim/BiS495/data_f/filtered_adni.csv')\n",
    "anm1 = pd.read_csv('/work/home/nhkim/BiS495/data_f/filtered_anm1.csv')\n",
    "anm2 = pd.read_csv('/work/home/nhkim/BiS495/data_f/filtered_anm2.csv')"
   ]
  },
  {
   "cell_type": "code",
   "execution_count": 7,
   "metadata": {},
   "outputs": [
    {
     "name": "stdout",
     "output_type": "stream",
     "text": [
      "[  100.  1000. 10000. 10001. 10004.]\n"
     ]
    }
   ],
   "source": [
    "adni = np.array(adni)\n",
    "gene = adni[:,0]\n",
    "print(gene[:5])"
   ]
  },
  {
   "cell_type": "code",
   "execution_count": 15,
   "metadata": {},
   "outputs": [
    {
     "name": "stdout",
     "output_type": "stream",
     "text": [
      "Index(['m48 116_S_1249', 'v03 037_S_4410', 'v03 006_S_4153', 'v03 099_S_4205',\n",
      "       'v03 007_S_4467', 'v06 128_S_0205', 'bl 003_S_2374', 'bl 031_S_2018',\n",
      "       'v03 002_S_4654', 'v03 019_S_4285',\n",
      "       ...\n",
      "       'GSM1539787', 'GSM1539788', 'GSM1539789', 'GSM1539790', 'GSM1539791',\n",
      "       'GSM1539792', 'GSM1539793', 'GSM1539794', 'GSM1539795', 'GSM1539796'],\n",
      "      dtype='object', length=1146)\n"
     ]
    }
   ],
   "source": [
    "print(cb_data.columns)"
   ]
  },
  {
   "cell_type": "code",
   "execution_count": 16,
   "metadata": {},
   "outputs": [],
   "source": [
    "columns = cb_data.columns"
   ]
  },
  {
   "cell_type": "code",
   "execution_count": 19,
   "metadata": {},
   "outputs": [],
   "source": [
    "gene = gene.astype(int)"
   ]
  },
  {
   "cell_type": "code",
   "execution_count": 22,
   "metadata": {},
   "outputs": [
    {
     "name": "stdout",
     "output_type": "stream",
     "text": [
      "GSM1539080\n"
     ]
    }
   ],
   "source": [
    "adni_col = columns[:429]\n",
    "print(columns[429])"
   ]
  },
  {
   "cell_type": "code",
   "execution_count": 23,
   "metadata": {},
   "outputs": [
    {
     "name": "stdout",
     "output_type": "stream",
     "text": [
      "GSM1539409\n"
     ]
    }
   ],
   "source": [
    "anm1_col = columns[429:758]\n",
    "print(columns[758])"
   ]
  },
  {
   "cell_type": "code",
   "execution_count": 24,
   "metadata": {},
   "outputs": [],
   "source": [
    "anm2_col = columns[758:]"
   ]
  },
  {
   "cell_type": "code",
   "execution_count": 25,
   "metadata": {},
   "outputs": [
    {
     "name": "stdout",
     "output_type": "stream",
     "text": [
      "429\n",
      "329\n",
      "388\n"
     ]
    }
   ],
   "source": [
    "print(len(adni_col))\n",
    "print(len(anm1_col))\n",
    "print(len(anm2_col))"
   ]
  },
  {
   "cell_type": "code",
   "execution_count": 30,
   "metadata": {},
   "outputs": [
    {
     "name": "stdout",
     "output_type": "stream",
     "text": [
      "(10025, 1146)\n"
     ]
    }
   ],
   "source": [
    "print(cb_data.shape)"
   ]
  },
  {
   "cell_type": "code",
   "execution_count": 28,
   "metadata": {},
   "outputs": [
    {
     "name": "stdout",
     "output_type": "stream",
     "text": [
      "10025\n"
     ]
    }
   ],
   "source": [
    "print(len(gene))"
   ]
  },
  {
   "cell_type": "code",
   "execution_count": 31,
   "metadata": {},
   "outputs": [],
   "source": [
    "cb_data_np = np.array(cb_data)"
   ]
  },
  {
   "cell_type": "code",
   "execution_count": 32,
   "metadata": {},
   "outputs": [],
   "source": [
    "adni_data = cb_data_np[:,:429]\n",
    "anm1_data = cb_data_np[:,429:758]\n",
    "anm2_data = cb_data_np[:,758:]"
   ]
  },
  {
   "cell_type": "code",
   "execution_count": 33,
   "metadata": {},
   "outputs": [],
   "source": [
    "adni_df = pd.DataFrame(data = adni_data, index = gene, columns = adni_col)"
   ]
  },
  {
   "cell_type": "code",
   "execution_count": 34,
   "metadata": {},
   "outputs": [],
   "source": [
    "anm1_df = pd.DataFrame(data = anm1_data, index = gene, columns = anm1_col)\n",
    "anm2_df = pd.DataFrame(data = anm2_data, index = gene, columns = anm2_col)"
   ]
  },
  {
   "cell_type": "code",
   "execution_count": 35,
   "metadata": {},
   "outputs": [],
   "source": [
    "adni_df.to_csv('/work/home/nhkim/BiS495/data_f/adni_cb.csv')\n",
    "anm1_df.to_csv('/work/home/nhkim/BiS495/data_f/anm1_cb.csv')\n",
    "anm2_df.to_csv('/work/home/nhkim/BiS495/data_f/anm2_cb.csv')"
   ]
  },
  {
   "cell_type": "code",
   "execution_count": null,
   "metadata": {},
   "outputs": [],
   "source": []
  }
 ],
 "metadata": {
  "kernelspec": {
   "display_name": "bis332-conda",
   "language": "python",
   "name": "python3"
  },
  "language_info": {
   "codemirror_mode": {
    "name": "ipython",
    "version": 3
   },
   "file_extension": ".py",
   "mimetype": "text/x-python",
   "name": "python",
   "nbconvert_exporter": "python",
   "pygments_lexer": "ipython3",
   "version": "3.6.10"
  }
 },
 "nbformat": 4,
 "nbformat_minor": 2
}
