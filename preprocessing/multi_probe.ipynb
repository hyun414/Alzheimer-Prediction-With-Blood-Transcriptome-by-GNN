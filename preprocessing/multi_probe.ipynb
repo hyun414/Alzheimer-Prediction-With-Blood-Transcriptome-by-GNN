{
 "cells": [
  {
   "cell_type": "code",
   "execution_count": 29,
   "metadata": {},
   "outputs": [],
   "source": [
    "import csv\n",
    "import numpy as np\n",
    "import pandas as pd\n",
    "\n",
    "f = open(\"/work/home/nhkim/BiS495/data/ADNI_ei_no.csv\", \"r\")\n",
    "reader = csv.reader(f)\n",
    "profile = list(reader)\n",
    "prof = np.array(profile)"
   ]
  },
  {
   "cell_type": "code",
   "execution_count": 2,
   "metadata": {},
   "outputs": [
    {
     "name": "stdout",
     "output_type": "stream",
     "text": [
      "[['' 'GSM1539080_MCI' 'GSM1539081_MCI' ... 'GSM1539406_MCI'\n",
      "  'GSM1539407_MCI' 'GSM1539408_MCI']\n",
      " ['1.0' '7.600951059' '7.672496374' ... '7.545534504' '7.567928422'\n",
      "  '7.567190152']\n",
      " ['29974.0' '7.401990858' '7.414576754' ... '7.365188843' '7.38500379'\n",
      "  '7.41126491']\n",
      " ...\n",
      " ['339010.0' '7.466492328' '7.395265981' ... '7.460190816' '7.465247427'\n",
      "  '7.508356433']\n",
      " ['23784.0' '7.650277251' '7.905122969' ... '7.647467234' '7.677255709'\n",
      "  '7.7030008']\n",
      " ['23784.0' '7.370770179' '7.564370402' ... '7.373266573' '7.457232917'\n",
      "  '7.395443273']]\n"
     ]
    }
   ],
   "source": [
    "print(prof[:10,:])"
   ]
  },
  {
   "cell_type": "code",
   "execution_count": 31,
   "metadata": {},
   "outputs": [
    {
     "name": "stdout",
     "output_type": "stream",
     "text": [
      "55199\n"
     ]
    }
   ],
   "source": [
    "columns = prof[0, 1:]\n",
    "genes = prof[1:, 0]\n",
    "values = prof[1:, 1:].astype(float)\n",
    "\n",
    "print(genes[2])"
   ]
  },
  {
   "cell_type": "code",
   "execution_count": 13,
   "metadata": {},
   "outputs": [
    {
     "name": "stdout",
     "output_type": "stream",
     "text": [
      "True\n",
      "38323\n"
     ]
    }
   ],
   "source": [
    "print(genes[47] == '')\n",
    "print(len(genes))"
   ]
  },
  {
   "cell_type": "code",
   "execution_count": 23,
   "metadata": {},
   "outputs": [
    {
     "name": "stdout",
     "output_type": "stream",
     "text": [
      "2565\n"
     ]
    }
   ],
   "source": [
    "del_list_na = []\n",
    "\n",
    "for i in range(len(genes)):\n",
    "    if genes[i] == '':\n",
    "        del_list_na.append(i)\n",
    "\n",
    "print(len(del_list_na))"
   ]
  },
  {
   "cell_type": "code",
   "execution_count": 24,
   "metadata": {},
   "outputs": [],
   "source": [
    "genes_d = np.delete(genes, del_list_na)\n",
    "values_d = np.delete(values, del_list_na, axis = 0)"
   ]
  },
  {
   "cell_type": "code",
   "execution_count": 25,
   "metadata": {},
   "outputs": [],
   "source": [
    "genes_d = genes_d.astype(float)"
   ]
  },
  {
   "cell_type": "code",
   "execution_count": 26,
   "metadata": {},
   "outputs": [],
   "source": [
    "genes_d = genes_d.astype(int)"
   ]
  },
  {
   "cell_type": "code",
   "execution_count": 32,
   "metadata": {},
   "outputs": [
    {
     "name": "stdout",
     "output_type": "stream",
     "text": [
      "(10764, 429)\n"
     ]
    }
   ],
   "source": [
    "\n",
    "df = pd.DataFrame(data=values, index=genes, columns=columns)\n",
    "df = df.groupby(df.index).median()\n",
    "\n",
    "print(df.shape)"
   ]
  },
  {
   "cell_type": "code",
   "execution_count": 33,
   "metadata": {},
   "outputs": [],
   "source": [
    "df.to_csv('/work/home/nhkim/BiS495/data/ADNI_ei_mul.csv', index=True)"
   ]
  }
 ],
 "metadata": {
  "kernelspec": {
   "display_name": "bis332-conda",
   "language": "python",
   "name": "python3"
  },
  "language_info": {
   "codemirror_mode": {
    "name": "ipython",
    "version": 3
   },
   "file_extension": ".py",
   "mimetype": "text/x-python",
   "name": "python",
   "nbconvert_exporter": "python",
   "pygments_lexer": "ipython3",
   "version": "3.6.10"
  }
 },
 "nbformat": 4,
 "nbformat_minor": 2
}
