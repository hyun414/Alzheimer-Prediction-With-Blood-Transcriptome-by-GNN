{
 "cells": [
  {
   "cell_type": "code",
   "execution_count": 1,
   "metadata": {},
   "outputs": [
    {
     "name": "stdout",
     "output_type": "stream",
     "text": [
      "(49387, 748)\n"
     ]
    }
   ],
   "source": [
    "import csv\n",
    "import numpy as np\n",
    "import pandas as pd\n",
    "\n",
    "f = open(\"/work/home/nhkim/BiS495/data/ADNI_Gene_Expression_Profile_ENTREZID.csv\", \"r\")\n",
    "reader = csv.reader(f)\n",
    "profile = list(reader)\n",
    "prof_ei = np.array(profile)\n",
    "print(prof_ei.shape)\n",
    "\n",
    "f.close()"
   ]
  },
  {
   "cell_type": "code",
   "execution_count": 2,
   "metadata": {},
   "outputs": [
    {
     "name": "stdout",
     "output_type": "stream",
     "text": [
      "(49387, 749)\n"
     ]
    }
   ],
   "source": [
    "f = open(\"/work/home/nhkim/BiS495/used_data/ADNI_Gene_Expression_Profile_ACCNUM.csv\", \"r\")\n",
    "reader = csv.reader(f)\n",
    "profile = list(reader)\n",
    "prof_ai = np.array(profile)\n",
    "print(prof_ai.shape)\n",
    "\n",
    "f.close()"
   ]
  },
  {
   "cell_type": "code",
   "execution_count": 10,
   "metadata": {},
   "outputs": [
    {
     "name": "stdout",
     "output_type": "stream",
     "text": [
      "(49387, 432)\n"
     ]
    }
   ],
   "source": [
    "f = open(\"/work/home/nhkim/BiS495/data/ADNI_ACCNUM_RIN.csv\", \"r\")\n",
    "reader = csv.reader(f)\n",
    "profile = list(reader)\n",
    "prof_acc = np.array(profile)\n",
    "print(prof_acc.shape)\n",
    "\n",
    "f.close()"
   ]
  },
  {
   "cell_type": "code",
   "execution_count": 14,
   "metadata": {},
   "outputs": [
    {
     "name": "stdout",
     "output_type": "stream",
     "text": [
      "(49386,)\n",
      "(430,)\n",
      "(49386, 430)\n"
     ]
    }
   ],
   "source": [
    "col = prof_ei[1:,0]\n",
    "id = prof_acc[0,1:-1]\n",
    "data = prof_acc[1:,1:-1]\n",
    "\n",
    "print(col.shape)\n",
    "print(id.shape)\n",
    "print(data.shape)"
   ]
  },
  {
   "cell_type": "code",
   "execution_count": 16,
   "metadata": {},
   "outputs": [],
   "source": [
    "df = pd.DataFrame(data = data, index = col, columns = id)\n",
    "df.to_csv(\"/work/home/nhkim/BiS495/data/ADNI_EI_RIN.csv\")"
   ]
  },
  {
   "cell_type": "code",
   "execution_count": null,
   "metadata": {},
   "outputs": [],
   "source": [
    "import GEOparse\n",
    "import pandas as pd\n",
    "import numpy as np\n",
    "\n",
    "gse = GEOparse.get_GEO(filepath=\"/work/home/nhkim/BiS495/used_data/GSE63060_family.soft.gz\")"
   ]
  },
  {
   "cell_type": "code",
   "execution_count": null,
   "metadata": {},
   "outputs": [],
   "source": [
    "for gpl_name, gpl in gse.gpls.items():\n",
    "    gpl_table_dict = {}\n",
    "    for index, gpl_entry in gpl.table.iterrows():\n",
    "        gpl_table_dict[gpl_entry['ID']] = gpl_entry['Accession']\n",
    "    break"
   ]
  }
 ],
 "metadata": {
  "kernelspec": {
   "display_name": "bis332-conda",
   "language": "python",
   "name": "python3"
  },
  "language_info": {
   "codemirror_mode": {
    "name": "ipython",
    "version": 3
   },
   "file_extension": ".py",
   "mimetype": "text/x-python",
   "name": "python",
   "nbconvert_exporter": "python",
   "pygments_lexer": "ipython3",
   "version": "3.6.10"
  }
 },
 "nbformat": 4,
 "nbformat_minor": 2
}
